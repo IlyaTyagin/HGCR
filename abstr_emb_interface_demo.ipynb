{
 "cells": [
  {
   "cell_type": "markdown",
   "id": "68277503-536d-4733-831c-d2bd9a6f7284",
   "metadata": {},
   "source": [
    "# Abstract embeddings interface demo"
   ]
  },
  {
   "cell_type": "code",
   "execution_count": 1,
   "id": "857a967e-9c33-4c60-b26c-71aeda181699",
   "metadata": {
    "tags": []
   },
   "outputs": [],
   "source": [
    "import numpy as np\n",
    "import json\n",
    "from joblib import Parallel, delayed\n",
    "from pathlib import Path\n",
    "\n",
    "from tqdm import tqdm"
   ]
  },
  {
   "cell_type": "code",
   "execution_count": 9,
   "id": "611c461b-4dd5-4eec-859e-787a0e9873ef",
   "metadata": {
    "tags": []
   },
   "outputs": [],
   "source": [
    "from util.emb_lookup.abstr_emb_lookup_np import MedlineNumpyEmbeddings"
   ]
  },
  {
   "cell_type": "code",
   "execution_count": 10,
   "id": "16e569bc-8a56-4c1d-a30f-fe25e880affc",
   "metadata": {},
   "outputs": [],
   "source": [
    "embeddings_fpath = Path(\n",
    "    '/work/acslab/shared/medline_embeddings/PubMedNCL_abstr/abstr_id_to_emb_PubMedNCL'\n",
    ")"
   ]
  },
  {
   "cell_type": "code",
   "execution_count": 11,
   "id": "727beec9-7178-493a-b569-c78ca7e20ef3",
   "metadata": {},
   "outputs": [
    {
     "data": {
      "text/plain": [
       "[PosixPath('/work/acslab/shared/medline_embeddings/PubMedNCL_abstr/abstr_id_to_emb_PubMedNCL/chunk_35__malteos_PubMedNCL_idx.json'),\n",
       " PosixPath('/work/acslab/shared/medline_embeddings/PubMedNCL_abstr/abstr_id_to_emb_PubMedNCL/chunk_40__malteos_PubMedNCL_idx.json'),\n",
       " PosixPath('/work/acslab/shared/medline_embeddings/PubMedNCL_abstr/abstr_id_to_emb_PubMedNCL/chunk_87__malteos_PubMedNCL_emb.npy'),\n",
       " PosixPath('/work/acslab/shared/medline_embeddings/PubMedNCL_abstr/abstr_id_to_emb_PubMedNCL/chunk_37__malteos_PubMedNCL_idx.json')]"
      ]
     },
     "execution_count": 11,
     "metadata": {},
     "output_type": "execute_result"
    }
   ],
   "source": [
    "list(embeddings_fpath.glob('*'))[:4]"
   ]
  },
  {
   "cell_type": "code",
   "execution_count": 15,
   "id": "5946fadc-3964-4eed-b668-df1f049ce5eb",
   "metadata": {
    "tags": []
   },
   "outputs": [
    {
     "name": "stderr",
     "output_type": "stream",
     "text": [
      "Opening np chunks: 100%|████████████████████████████████████████████████████████████████| 100/100 [00:06<00:00, 15.80it/s]\n",
      "Opening json index chunks: 100%|████████████████████████████████████████████████████████| 100/100 [00:03<00:00, 25.47it/s]\n",
      "Constructing PMID lookup index: 100%|███████████████████████████████████████████████████| 100/100 [00:13<00:00,  7.61it/s]\n"
     ]
    }
   ],
   "source": [
    "pubmedncl_emb_obj = MedlineNumpyEmbeddings(\n",
    "    emb_w_ids_fpath=embeddings_fpath,\n",
    "    json_read_n_jobs=8,\n",
    ")"
   ]
  },
  {
   "cell_type": "code",
   "execution_count": 22,
   "id": "673bee42-7bbc-40e2-8e94-5b7cff04c0c3",
   "metadata": {
    "tags": []
   },
   "outputs": [
    {
     "data": {
      "text/plain": [
       "memmap([-0.1534004 , -0.53136206,  0.34825224], dtype=float32)"
      ]
     },
     "execution_count": 22,
     "metadata": {},
     "output_type": "execute_result"
    }
   ],
   "source": [
    "pubmedncl_emb_obj['33053381'][:3]"
   ]
  },
  {
   "cell_type": "code",
   "execution_count": 23,
   "id": "3aeaefec-d786-4289-b30d-49d5fd58a208",
   "metadata": {
    "tags": []
   },
   "outputs": [
    {
     "data": {
      "text/plain": [
       "True"
      ]
     },
     "execution_count": 23,
     "metadata": {},
     "output_type": "execute_result"
    }
   ],
   "source": [
    "# lookup demo\n",
    "'33053381' in pubmedncl_emb_obj"
   ]
  },
  {
   "cell_type": "code",
   "execution_count": 24,
   "id": "1509cc5f-4a39-400b-b936-2868c1d42cdc",
   "metadata": {
    "tags": []
   },
   "outputs": [
    {
     "data": {
      "text/plain": [
       "False"
      ]
     },
     "execution_count": 24,
     "metadata": {},
     "output_type": "execute_result"
    }
   ],
   "source": [
    "'3305338d1' in pubmedncl_emb_obj"
   ]
  }
 ],
 "metadata": {
  "kernelspec": {
   "display_name": "Python [conda env:agatha_cgp_py_3_9]",
   "language": "python",
   "name": "conda-env-agatha_cgp_py_3_9-py"
  },
  "language_info": {
   "codemirror_mode": {
    "name": "ipython",
    "version": 3
   },
   "file_extension": ".py",
   "mimetype": "text/x-python",
   "name": "python",
   "nbconvert_exporter": "python",
   "pygments_lexer": "ipython3",
   "version": "3.9.18"
  }
 },
 "nbformat": 4,
 "nbformat_minor": 5
}
