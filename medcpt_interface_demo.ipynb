{
 "cells": [
  {
   "cell_type": "markdown",
   "id": "68277503-536d-4733-831c-d2bd9a6f7284",
   "metadata": {},
   "source": [
    "# MedCPT interface"
   ]
  },
  {
   "cell_type": "code",
   "execution_count": 1,
   "id": "857a967e-9c33-4c60-b26c-71aeda181699",
   "metadata": {
    "execution": {
     "iopub.execute_input": "2024-04-27T23:35:04.128105Z",
     "iopub.status.busy": "2024-04-27T23:35:04.127195Z",
     "iopub.status.idle": "2024-04-27T23:35:04.446281Z",
     "shell.execute_reply": "2024-04-27T23:35:04.445597Z",
     "shell.execute_reply.started": "2024-04-27T23:35:04.128015Z"
    },
    "tags": []
   },
   "outputs": [],
   "source": [
    "import numpy as np\n",
    "import json\n",
    "from joblib import Parallel, delayed\n",
    "from pathlib import Path\n",
    "\n",
    "from tqdm import tqdm"
   ]
  },
  {
   "cell_type": "code",
   "execution_count": 2,
   "id": "611c461b-4dd5-4eec-859e-787a0e9873ef",
   "metadata": {
    "execution": {
     "iopub.execute_input": "2024-04-27T23:35:04.737535Z",
     "iopub.status.busy": "2024-04-27T23:35:04.737134Z",
     "iopub.status.idle": "2024-04-27T23:35:04.748885Z",
     "shell.execute_reply": "2024-04-27T23:35:04.748287Z",
     "shell.execute_reply.started": "2024-04-27T23:35:04.737505Z"
    },
    "tags": []
   },
   "outputs": [],
   "source": [
    "from util.medcpt_np_lookup import MedCPTNumpyEmbeddings"
   ]
  },
  {
   "cell_type": "code",
   "execution_count": 4,
   "id": "5946fadc-3964-4eed-b668-df1f049ce5eb",
   "metadata": {
    "execution": {
     "iopub.execute_input": "2024-04-27T23:35:31.089044Z",
     "iopub.status.busy": "2024-04-27T23:35:31.088571Z",
     "iopub.status.idle": "2024-04-27T23:35:51.488791Z",
     "shell.execute_reply": "2024-04-27T23:35:51.487598Z",
     "shell.execute_reply.started": "2024-04-27T23:35:31.089011Z"
    },
    "tags": []
   },
   "outputs": [
    {
     "name": "stderr",
     "output_type": "stream",
     "text": [
      "Opening np chunks: 100%|██████████████████████████████████████████████████| 38/38 [00:00<00:00, 752.10it/s]\n",
      "Opening json index chunks: 100%|██████████████████████████████████████████| 38/38 [00:00<00:00, 300.33it/s]\n",
      "Constructing PMID lookup index: 100%|██████████████████████████████████████| 38/38 [00:16<00:00,  2.35it/s]\n"
     ]
    }
   ],
   "source": [
    "medcpt_emb_obj = MedCPTNumpyEmbeddings(\n",
    "    medcpt_fpath='/lustre/acslab/users/2288/NLM_soft/MedCPT/medcpt_embs/',\n",
    "    json_read_n_jobs=20,\n",
    ")"
   ]
  },
  {
   "cell_type": "code",
   "execution_count": 5,
   "id": "673bee42-7bbc-40e2-8e94-5b7cff04c0c3",
   "metadata": {
    "execution": {
     "iopub.execute_input": "2024-04-27T23:36:14.622393Z",
     "iopub.status.busy": "2024-04-27T23:36:14.621921Z",
     "iopub.status.idle": "2024-04-27T23:36:14.631632Z",
     "shell.execute_reply": "2024-04-27T23:36:14.630981Z",
     "shell.execute_reply.started": "2024-04-27T23:36:14.622360Z"
    },
    "tags": []
   },
   "outputs": [
    {
     "data": {
      "text/plain": [
       "memmap([-0.08180492,  0.1006372 , -0.01933046], dtype=float32)"
      ]
     },
     "execution_count": 5,
     "metadata": {},
     "output_type": "execute_result"
    }
   ],
   "source": [
    "medcpt_emb_obj['33053381'][:3]"
   ]
  },
  {
   "cell_type": "code",
   "execution_count": 6,
   "id": "3aeaefec-d786-4289-b30d-49d5fd58a208",
   "metadata": {
    "execution": {
     "iopub.execute_input": "2024-04-27T23:36:16.599198Z",
     "iopub.status.busy": "2024-04-27T23:36:16.598787Z",
     "iopub.status.idle": "2024-04-27T23:36:16.605248Z",
     "shell.execute_reply": "2024-04-27T23:36:16.604217Z",
     "shell.execute_reply.started": "2024-04-27T23:36:16.599167Z"
    },
    "tags": []
   },
   "outputs": [
    {
     "data": {
      "text/plain": [
       "True"
      ]
     },
     "execution_count": 6,
     "metadata": {},
     "output_type": "execute_result"
    }
   ],
   "source": [
    "# lookup demo\n",
    "'33053381' in medcpt_emb_obj"
   ]
  },
  {
   "cell_type": "code",
   "execution_count": 7,
   "id": "1509cc5f-4a39-400b-b936-2868c1d42cdc",
   "metadata": {
    "execution": {
     "iopub.execute_input": "2024-04-27T23:36:17.099465Z",
     "iopub.status.busy": "2024-04-27T23:36:17.099163Z",
     "iopub.status.idle": "2024-04-27T23:36:17.104024Z",
     "shell.execute_reply": "2024-04-27T23:36:17.103394Z",
     "shell.execute_reply.started": "2024-04-27T23:36:17.099443Z"
    },
    "tags": []
   },
   "outputs": [
    {
     "data": {
      "text/plain": [
       "False"
      ]
     },
     "execution_count": 7,
     "metadata": {},
     "output_type": "execute_result"
    }
   ],
   "source": [
    "'3305338d1' in medcpt_emb_obj"
   ]
  }
 ],
 "metadata": {
  "kernelspec": {
   "display_name": "Python [conda env:agatha_cgp_py_3_9]",
   "language": "python",
   "name": "conda-env-agatha_cgp_py_3_9-py"
  },
  "language_info": {
   "codemirror_mode": {
    "name": "ipython",
    "version": 3
   },
   "file_extension": ".py",
   "mimetype": "text/x-python",
   "name": "python",
   "nbconvert_exporter": "python",
   "pygments_lexer": "ipython3",
   "version": "3.9.13"
  }
 },
 "nbformat": 4,
 "nbformat_minor": 5
}
