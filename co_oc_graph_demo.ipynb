{
 "cells": [
  {
   "cell_type": "markdown",
   "id": "455bd980-b0f9-432a-b0d9-7c4a416bd3dd",
   "metadata": {},
   "source": [
    "# MEDLINE co-occurrence graph demo"
   ]
  },
  {
   "cell_type": "code",
   "execution_count": 2,
   "id": "e6d8f6db-ef6a-4aab-b3c1-1a159bb6add4",
   "metadata": {
    "execution": {
     "iopub.execute_input": "2024-04-24T19:37:05.541888Z",
     "iopub.status.busy": "2024-04-24T19:37:05.541519Z",
     "iopub.status.idle": "2024-04-24T19:37:14.257380Z",
     "shell.execute_reply": "2024-04-24T19:37:14.256204Z",
     "shell.execute_reply.started": "2024-04-24T19:37:05.541854Z"
    }
   },
   "outputs": [],
   "source": [
    "import numpy as np\n",
    "import pandas as pd\n",
    "from tqdm import tqdm"
   ]
  },
  {
   "cell_type": "code",
   "execution_count": 28,
   "id": "27219425-9189-4181-8a1d-b02dc8e80e8f",
   "metadata": {
    "execution": {
     "iopub.execute_input": "2024-04-24T20:08:08.367880Z",
     "iopub.status.busy": "2024-04-24T20:08:08.367242Z",
     "iopub.status.idle": "2024-04-24T20:08:08.408962Z",
     "shell.execute_reply": "2024-04-24T20:08:08.408253Z",
     "shell.execute_reply.started": "2024-04-24T20:08:08.367848Z"
    },
    "tags": []
   },
   "outputs": [],
   "source": [
    "from util.co_oc_graph import MedlineCoocGraph\n",
    "from util import text_util"
   ]
  },
  {
   "cell_type": "markdown",
   "id": "c22f151d-1504-4534-a770-456d8e3db785",
   "metadata": {},
   "source": [
    "## Opening co-occurrence graph"
   ]
  },
  {
   "cell_type": "code",
   "execution_count": 4,
   "id": "bd2e3701-0852-4bc1-96ea-a197776ce912",
   "metadata": {
    "execution": {
     "iopub.execute_input": "2024-04-24T19:38:25.744409Z",
     "iopub.status.busy": "2024-04-24T19:38:25.743631Z",
     "iopub.status.idle": "2024-04-24T19:38:25.776592Z",
     "shell.execute_reply": "2024-04-24T19:38:25.775965Z",
     "shell.execute_reply.started": "2024-04-24T19:38:25.744198Z"
    },
    "tags": []
   },
   "outputs": [],
   "source": [
    "mcg_title_only_obj = MedlineCoocGraph(verbose=True)"
   ]
  },
  {
   "cell_type": "code",
   "execution_count": 5,
   "id": "73c96a94-2f36-4ecf-b347-98d61a64895d",
   "metadata": {
    "execution": {
     "iopub.execute_input": "2024-04-24T19:38:51.127043Z",
     "iopub.status.busy": "2024-04-24T19:38:51.126816Z",
     "iopub.status.idle": "2024-04-24T19:39:10.925802Z",
     "shell.execute_reply": "2024-04-24T19:39:10.924991Z",
     "shell.execute_reply.started": "2024-04-24T19:38:51.126954Z"
    },
    "tags": []
   },
   "outputs": [
    {
     "name": "stdout",
     "output_type": "stream",
     "text": [
      "Loading MedlineCoocGraph object from checkpoint...\n",
      "Done!\n"
     ]
    }
   ],
   "source": [
    "# loading co-occurrence graph \n",
    "\n",
    "mcg_title_only_obj.load_graph(\n",
    "    '/lustre/acslab/shared/LLM_stuff'\n",
    "    '/subgraph_retrieval/medline_cooc_graphs/'\n",
    "    '2021_11_22_cooc_graph_titles_mcl.pkl'\n",
    ")"
   ]
  },
  {
   "cell_type": "code",
   "execution_count": 7,
   "id": "b850793e-a82f-41c4-b604-844ba38f56d4",
   "metadata": {
    "execution": {
     "iopub.execute_input": "2024-04-24T19:39:19.369469Z",
     "iopub.status.busy": "2024-04-24T19:39:19.369119Z",
     "iopub.status.idle": "2024-04-24T19:39:19.405188Z",
     "shell.execute_reply": "2024-04-24T19:39:19.404488Z",
     "shell.execute_reply.started": "2024-04-24T19:39:19.369438Z"
    },
    "tags": []
   },
   "outputs": [
    {
     "data": {
      "text/plain": [
       "28439282"
      ]
     },
     "execution_count": 8,
     "metadata": {},
     "output_type": "execute_result"
    }
   ],
   "source": [
    "# number of pmids\n",
    "\n",
    "len(mcg_title_only_obj.idx_to_pmid_list)"
   ]
  },
  {
   "cell_type": "code",
   "execution_count": 22,
   "id": "58e1b4a0-df07-4328-a90d-9c3a07ce14f6",
   "metadata": {
    "execution": {
     "iopub.execute_input": "2024-04-24T19:49:51.855154Z",
     "iopub.status.busy": "2024-04-24T19:49:51.854795Z",
     "iopub.status.idle": "2024-04-24T19:49:51.892611Z",
     "shell.execute_reply": "2024-04-24T19:49:51.892039Z",
     "shell.execute_reply.started": "2024-04-24T19:49:51.855123Z"
    },
    "tags": []
   },
   "outputs": [
    {
     "data": {
      "text/plain": [
       "147"
      ]
     },
     "execution_count": 9,
     "metadata": {},
     "output_type": "execute_result"
    }
   ],
   "source": [
    "# getting a list of PMIDs for a given co-occurrence\n",
    "\n",
    "len(mcg_title_only_obj.get_cooc_pmids('C0017725', 'C0333668'))"
   ]
  },
  {
   "cell_type": "markdown",
   "id": "5ddb4780-5616-49a8-be7b-c78a14c5c6ed",
   "metadata": {},
   "source": [
    "## Performing shortest path search"
   ]
  },
  {
   "cell_type": "code",
   "execution_count": 9,
   "id": "eb23f4fc-3d6b-42c8-8eab-613cdc1175bf",
   "metadata": {
    "execution": {
     "iopub.execute_input": "2024-04-24T19:39:37.590354Z",
     "iopub.status.busy": "2024-04-24T19:39:37.589656Z",
     "iopub.status.idle": "2024-04-24T19:39:52.160672Z",
     "shell.execute_reply": "2024-04-24T19:39:52.159985Z",
     "shell.execute_reply.started": "2024-04-24T19:39:37.590314Z"
    },
    "tags": []
   },
   "outputs": [
    {
     "name": "stdout",
     "output_type": "stream",
     "text": [
      "graph-tool network constructed!\n"
     ]
    }
   ],
   "source": [
    "mcg_title_only_obj.construct_gt_network()"
   ]
  },
  {
   "cell_type": "code",
   "execution_count": 15,
   "id": "c0b94b17-3e44-4353-a467-af614503b57f",
   "metadata": {
    "execution": {
     "iopub.execute_input": "2024-04-24T19:48:28.077867Z",
     "iopub.status.busy": "2024-04-24T19:48:28.077447Z",
     "iopub.status.idle": "2024-04-24T19:48:28.884093Z",
     "shell.execute_reply": "2024-04-24T19:48:28.883240Z",
     "shell.execute_reply.started": "2024-04-24T19:48:28.077835Z"
    },
    "tags": []
   },
   "outputs": [],
   "source": [
    "sp_cui_list = mcg_title_only_obj.find_shortest_paths(\n",
    "    'C0733530', 'C0006873'\n",
    ")"
   ]
  },
  {
   "cell_type": "code",
   "execution_count": 21,
   "id": "998d52ec-a987-4314-b6fb-ffb8a123061b",
   "metadata": {
    "execution": {
     "iopub.execute_input": "2024-04-24T19:49:20.082773Z",
     "iopub.status.busy": "2024-04-24T19:49:20.081863Z",
     "iopub.status.idle": "2024-04-24T19:49:20.113731Z",
     "shell.execute_reply": "2024-04-24T19:49:20.113110Z",
     "shell.execute_reply.started": "2024-04-24T19:49:20.082726Z"
    }
   },
   "outputs": [
    {
     "data": {
      "text/plain": [
       "[['C0733530', 'C0184758', 'C0006873'],\n",
       " ['C0733530', 'C0205177', 'C0006873'],\n",
       " ['C0733530', 'C1280500', 'C0006873'],\n",
       " ['C0733530', 'C0205314', 'C0006873'],\n",
       " ['C0733530', 'C1628982', 'C0006873']]"
      ]
     },
     "execution_count": 12,
     "metadata": {},
     "output_type": "execute_result"
    }
   ],
   "source": [
    "sp_cui_list"
   ]
  },
  {
   "cell_type": "code",
   "execution_count": 24,
   "id": "d8b245c3-34d2-410f-8c3b-5f6f3e2433d0",
   "metadata": {
    "execution": {
     "iopub.execute_input": "2024-04-24T20:04:59.350721Z",
     "iopub.status.busy": "2024-04-24T20:04:59.350228Z",
     "iopub.status.idle": "2024-04-24T20:04:59.655308Z",
     "shell.execute_reply": "2024-04-24T20:04:59.654534Z",
     "shell.execute_reply.started": "2024-04-24T20:04:59.350688Z"
    },
    "tags": []
   },
   "outputs": [],
   "source": [
    "pmids_list_per_sp_edge_dict = mcg_title_only_obj.retrieve_abstr_ids_from_sp_nodes(\n",
    "    sp_cui_list[2],\n",
    "    cut_date='1977', # retrieve abstracts only prior to or equal a given threshold (optional)\n",
    ")"
   ]
  },
  {
   "cell_type": "code",
   "execution_count": 25,
   "id": "1f9e1144-5673-4bdc-9def-7521ce9ff67b",
   "metadata": {
    "execution": {
     "iopub.execute_input": "2024-04-24T20:04:59.940357Z",
     "iopub.status.busy": "2024-04-24T20:04:59.939882Z",
     "iopub.status.idle": "2024-04-24T20:04:59.975300Z",
     "shell.execute_reply": "2024-04-24T20:04:59.974647Z",
     "shell.execute_reply.started": "2024-04-24T20:04:59.940325Z"
    },
    "tags": []
   },
   "outputs": [
    {
     "data": {
      "text/plain": [
       "{('C0733530', 'C1280500'): ['212990', '280160'],\n",
       " ('C1280500', 'C0006873'): ['924695',\n",
       "  '5481568',\n",
       "  '17743585',\n",
       "  '822452',\n",
       "  '4708887',\n",
       "  '4435127',\n",
       "  '4532020',\n",
       "  '4415376',\n",
       "  '972997',\n",
       "  '1071389',\n",
       "  '1071398',\n",
       "  '1126112',\n",
       "  '1235156']}"
      ]
     },
     "execution_count": 25,
     "metadata": {},
     "output_type": "execute_result"
    }
   ],
   "source": [
    "pmids_list_per_sp_edge_dict"
   ]
  },
  {
   "cell_type": "markdown",
   "id": "e93b2256-f522-4d0a-8e19-d10eb92d0794",
   "metadata": {},
   "source": [
    "## Obtaining abstract texts"
   ]
  },
  {
   "cell_type": "code",
   "execution_count": 15,
   "id": "fad6d9d9-ad8e-4b2c-87b6-a18980ad6904",
   "metadata": {
    "execution": {
     "iopub.execute_input": "2024-04-24T20:04:24.554387Z",
     "iopub.status.busy": "2024-04-24T20:04:24.553941Z",
     "iopub.status.idle": "2024-04-24T20:04:32.003218Z",
     "shell.execute_reply": "2024-04-24T20:04:32.002248Z",
     "shell.execute_reply.started": "2024-04-24T20:04:24.554354Z"
    },
    "tags": []
   },
   "outputs": [],
   "source": [
    "from agatha.util.sqlite3_lookup import Sqlite3LookupTable"
   ]
  },
  {
   "cell_type": "code",
   "execution_count": 26,
   "id": "db58eb97-364f-467d-82e5-b6cf9d652903",
   "metadata": {
    "execution": {
     "iopub.execute_input": "2024-04-24T20:06:44.490850Z",
     "iopub.status.busy": "2024-04-24T20:06:44.490510Z",
     "iopub.status.idle": "2024-04-24T20:06:44.531213Z",
     "shell.execute_reply": "2024-04-24T20:06:44.530429Z",
     "shell.execute_reply.started": "2024-04-24T20:06:44.490819Z"
    },
    "tags": []
   },
   "outputs": [],
   "source": [
    "agatha_sent_db_path = (\n",
    "    '/lustre/acslab/shared/Agatha_shared/2021_11_22_full/sentences.sqlite3'\n",
    ")"
   ]
  },
  {
   "cell_type": "code",
   "execution_count": 27,
   "id": "538d3013-a715-441b-b7e9-39643d3d5b95",
   "metadata": {
    "execution": {
     "iopub.execute_input": "2024-04-24T20:06:44.532761Z",
     "iopub.status.busy": "2024-04-24T20:06:44.532472Z",
     "iopub.status.idle": "2024-04-24T20:06:44.618033Z",
     "shell.execute_reply": "2024-04-24T20:06:44.617295Z",
     "shell.execute_reply.started": "2024-04-24T20:06:44.532739Z"
    },
    "tags": []
   },
   "outputs": [],
   "source": [
    "sents_db = Sqlite3LookupTable(agatha_sent_db_path)"
   ]
  },
  {
   "cell_type": "code",
   "execution_count": 35,
   "id": "8b3aca80-5522-43f9-b972-a210f275a3ce",
   "metadata": {
    "execution": {
     "iopub.execute_input": "2024-04-24T20:09:27.104555Z",
     "iopub.status.busy": "2024-04-24T20:09:27.104091Z",
     "iopub.status.idle": "2024-04-24T20:09:27.139987Z",
     "shell.execute_reply": "2024-04-24T20:09:27.139263Z",
     "shell.execute_reply.started": "2024-04-24T20:09:27.104521Z"
    },
    "tags": []
   },
   "outputs": [
    {
     "data": {
      "text/plain": [
       "'Effect of a novel adenosine deaminase inhibitor (co-vidarabine, co-V) upon the antiviral activity in vitro and in vivo of vidarabine (Vira-Atm) for DNA virus replication. A new potent inhibitor of adenosine deaminase (co-vidarabine) was used in combination studies with adenine arabinoside (vidarabine, Vira-ATM) to protect this purine nucleoside from enzymatic deamination to the more weakly active metabolite, hypoxanthine arabinoside. Comparing the combination to vidarabine alone, a significant increase (10-fold) of the antiviral activity of the combined drugs was observed against herpes and vaccinia viruses in tissue culture and subcutaneously, against cranial herpesvirus infections in mice. Several other investigators have also recently reported several-fold enhancement of vidarabine activity by newly described deaminase inhibitors. They observed that plaque formation by several large DNA-containing viruses (herpes, vaccinia, varicella zoster) and an RNA-containing oncogenic virus was markedly prevented by the combination compared to vidarabine alone. In animals, enhanced protection (increased survivors) and/or highly significant increase in the life span of dying mice treated with the 2-drug combination, was also observed compared to vidarabine administered singly. These observations in animals clearly indicate that combination studies with vidarabine (Vira-ATM) and co-vidarabine (deaminase inhibitor) deserve serious consideration as future therapy for systemic virus infections in man including herpesvirus encephalitis. '"
      ]
     },
     "execution_count": 35,
     "metadata": {},
     "output_type": "execute_result"
    }
   ],
   "source": [
    "# get an abstract text for a given pmid\n",
    "\n",
    "abstr_text = text_util.get_abstr_text('212990', sents_db)\n",
    "abstr_text"
   ]
  },
  {
   "cell_type": "code",
   "execution_count": 40,
   "id": "2bb76e43-983a-425e-aa15-362873ceacb5",
   "metadata": {
    "execution": {
     "iopub.execute_input": "2024-04-24T20:12:08.312492Z",
     "iopub.status.busy": "2024-04-24T20:12:08.312072Z",
     "iopub.status.idle": "2024-04-24T20:12:08.354017Z",
     "shell.execute_reply": "2024-04-24T20:12:08.353241Z",
     "shell.execute_reply.started": "2024-04-24T20:12:08.312460Z"
    },
    "tags": []
   },
   "outputs": [],
   "source": [
    "# get all abstract texts along a specific path\n",
    "\n",
    "path_context_dict = (\n",
    "    text_util.get_path_context(\n",
    "        pmids_list_per_sp_edge_dict,\n",
    "        sents_db\n",
    "    )\n",
    ")"
   ]
  },
  {
   "cell_type": "code",
   "execution_count": 41,
   "id": "2b910e46-517b-4238-b4dc-230279efed31",
   "metadata": {
    "execution": {
     "iopub.execute_input": "2024-04-24T20:12:09.017600Z",
     "iopub.status.busy": "2024-04-24T20:12:09.016728Z",
     "iopub.status.idle": "2024-04-24T20:12:09.053208Z",
     "shell.execute_reply": "2024-04-24T20:12:09.052522Z",
     "shell.execute_reply.started": "2024-04-24T20:12:09.017565Z"
    },
    "tags": []
   },
   "outputs": [
    {
     "data": {
      "text/plain": [
       "{'212990': 'Effect of a novel adenosine deaminase inhibitor (co-vidarabine, co-V) upon the antiviral activity in vitro and in vivo of vidarabine (Vira-Atm) for DNA virus replication. A new potent inhibitor of adenosine deaminase (co-vidarabine) was used in combination studies with adenine arabinoside (vidarabine, Vira-ATM) to protect this purine nucleoside from enzymatic deamination to the more weakly active metabolite, hypoxanthine arabinoside. Comparing the combination to vidarabine alone, a significant increase (10-fold) of the antiviral activity of the combined drugs was observed against herpes and vaccinia viruses in tissue culture and subcutaneously, against cranial herpesvirus infections in mice. Several other investigators have also recently reported several-fold enhancement of vidarabine activity by newly described deaminase inhibitors. They observed that plaque formation by several large DNA-containing viruses (herpes, vaccinia, varicella zoster) and an RNA-containing oncogenic virus was markedly prevented by the combination compared to vidarabine alone. In animals, enhanced protection (increased survivors) and/or highly significant increase in the life span of dying mice treated with the 2-drug combination, was also observed compared to vidarabine administered singly. These observations in animals clearly indicate that combination studies with vidarabine (Vira-ATM) and co-vidarabine (deaminase inhibitor) deserve serious consideration as future therapy for systemic virus infections in man including herpesvirus encephalitis. ',\n",
       " '280160': 'Inhibition of adenosine deaminase by co-vidarabine and its effect on the metabolic disposition of adenine arabinoside (vidarabine). '}"
      ]
     },
     "execution_count": 41,
     "metadata": {},
     "output_type": "execute_result"
    }
   ],
   "source": [
    "path_context_dict[('C0733530','C1280500')]"
   ]
  },
  {
   "cell_type": "code",
   "execution_count": null,
   "id": "582d4a0d-1aad-4819-bcda-01c5db20116a",
   "metadata": {},
   "outputs": [],
   "source": []
  }
 ],
 "metadata": {
  "kernelspec": {
   "display_name": "Python [conda env:agatha_cgp_py_3_9]",
   "language": "python",
   "name": "conda-env-agatha_cgp_py_3_9-py"
  },
  "language_info": {
   "codemirror_mode": {
    "name": "ipython",
    "version": 3
   },
   "file_extension": ".py",
   "mimetype": "text/x-python",
   "name": "python",
   "nbconvert_exporter": "python",
   "pygments_lexer": "ipython3",
   "version": "3.9.13"
  }
 },
 "nbformat": 4,
 "nbformat_minor": 5
}
