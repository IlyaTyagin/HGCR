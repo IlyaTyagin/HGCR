{
 "cells": [
  {
   "cell_type": "markdown",
   "id": "e4d6974e-e206-4dd9-ab53-b33bd3ac40cf",
   "metadata": {},
   "source": [
    "# Sentence embeddings interface demo"
   ]
  },
  {
   "cell_type": "code",
   "execution_count": 1,
   "id": "1a7cfdb8-42ab-427d-88e9-8e413093cd36",
   "metadata": {
    "execution": {
     "iopub.execute_input": "2024-05-11T03:08:33.809460Z",
     "iopub.status.busy": "2024-05-11T03:08:33.809040Z",
     "iopub.status.idle": "2024-05-11T03:08:52.576964Z",
     "shell.execute_reply": "2024-05-11T03:08:52.575914Z",
     "shell.execute_reply.started": "2024-05-11T03:08:33.809374Z"
    },
    "tags": []
   },
   "outputs": [],
   "source": [
    "from util.emb_lookup.sent_emb_lookup import MedlineNumpyEmbeddings"
   ]
  },
  {
   "cell_type": "code",
   "execution_count": 3,
   "id": "e3e61d22-0140-4efd-be05-b04132fdc72e",
   "metadata": {
    "execution": {
     "iopub.execute_input": "2024-05-01T03:01:30.271238Z",
     "iopub.status.busy": "2024-05-01T03:01:30.270962Z",
     "iopub.status.idle": "2024-05-01T03:02:05.637161Z",
     "shell.execute_reply": "2024-05-01T03:02:05.635798Z",
     "shell.execute_reply.started": "2024-05-01T03:01:30.271216Z"
    },
    "tags": []
   },
   "outputs": [
    {
     "name": "stderr",
     "output_type": "stream",
     "text": [
      "Opening npy files: 100%|██████████████████████████████████████████████████████████| 100/100 [00:10<00:00,  9.46it/s]\n"
     ]
    },
    {
     "name": "stdout",
     "output_type": "stream",
     "text": [
      "Loading index\n"
     ]
    }
   ],
   "source": [
    "m_obj = MedlineNumpyEmbeddings(\n",
    "    sent_id_to_emb_path = '../../../medline_emb/sent_id_to_emb/',\n",
    "    idx_fpath = '../../../medline_emb/pmid_to_str_idx_dict.json',\n",
    ")"
   ]
  },
  {
   "cell_type": "code",
   "execution_count": 4,
   "id": "09e460ca-03e5-41c9-b00a-4b99631bb97d",
   "metadata": {
    "execution": {
     "iopub.execute_input": "2024-05-01T03:02:24.610960Z",
     "iopub.status.busy": "2024-05-01T03:02:24.610614Z",
     "iopub.status.idle": "2024-05-01T03:02:24.642172Z",
     "shell.execute_reply": "2024-05-01T03:02:24.641220Z",
     "shell.execute_reply.started": "2024-05-01T03:02:24.610927Z"
    },
    "tags": []
   },
   "outputs": [
    {
     "data": {
      "text/plain": [
       "array([[-0.00727309, -0.00667939, -0.05906799, ..., -0.01311847,\n",
       "        -0.01191599,  0.03287944],\n",
       "       [-0.02209339,  0.05177755, -0.07359627, ..., -0.07701777,\n",
       "         0.03507036,  0.06100155],\n",
       "       [ 0.02164808, -0.03801483, -0.05112421, ..., -0.06160536,\n",
       "         0.06112295,  0.03309578],\n",
       "       ...,\n",
       "       [-0.00591035,  0.06751729, -0.0266622 , ..., -0.00139897,\n",
       "         0.03295862,  0.06815954],\n",
       "       [ 0.01520746, -0.01086251, -0.0056098 , ...,  0.01547998,\n",
       "        -0.02824098,  0.05510247],\n",
       "       [-0.00210357,  0.0370524 , -0.04211293, ..., -0.05384434,\n",
       "         0.02338994,  0.0552818 ]], dtype=float32)"
      ]
     },
     "execution_count": 4,
     "metadata": {},
     "output_type": "execute_result"
    }
   ],
   "source": [
    "m_obj['33053381']"
   ]
  },
  {
   "cell_type": "code",
   "execution_count": 5,
   "id": "ea5fdaa6-b3ae-496c-b3a2-f157b70ae3b4",
   "metadata": {
    "execution": {
     "iopub.execute_input": "2024-05-01T03:02:29.660440Z",
     "iopub.status.busy": "2024-05-01T03:02:29.660107Z",
     "iopub.status.idle": "2024-05-01T03:02:29.666630Z",
     "shell.execute_reply": "2024-05-01T03:02:29.665681Z",
     "shell.execute_reply.started": "2024-05-01T03:02:29.660410Z"
    },
    "tags": []
   },
   "outputs": [
    {
     "data": {
      "text/plain": [
       "(7, 384)"
      ]
     },
     "execution_count": 5,
     "metadata": {},
     "output_type": "execute_result"
    }
   ],
   "source": [
    "m_obj['33053381'].shape"
   ]
  },
  {
   "cell_type": "code",
   "execution_count": 10,
   "id": "597131ae-4231-4885-8299-2070cb0314b5",
   "metadata": {
    "execution": {
     "iopub.execute_input": "2024-05-01T03:03:31.979749Z",
     "iopub.status.busy": "2024-05-01T03:03:31.979318Z",
     "iopub.status.idle": "2024-05-01T03:03:31.986086Z",
     "shell.execute_reply": "2024-05-01T03:03:31.985069Z",
     "shell.execute_reply.started": "2024-05-01T03:03:31.979716Z"
    },
    "tags": []
   },
   "outputs": [
    {
     "data": {
      "text/plain": [
       "True"
      ]
     },
     "execution_count": 10,
     "metadata": {},
     "output_type": "execute_result"
    }
   ],
   "source": [
    "'33053381' in m_obj"
   ]
  },
  {
   "cell_type": "code",
   "execution_count": 11,
   "id": "12afb758-1397-468a-a753-7fa9287c4c79",
   "metadata": {
    "execution": {
     "iopub.execute_input": "2024-05-01T03:03:37.791867Z",
     "iopub.status.busy": "2024-05-01T03:03:37.791541Z",
     "iopub.status.idle": "2024-05-01T03:03:37.797595Z",
     "shell.execute_reply": "2024-05-01T03:03:37.796920Z",
     "shell.execute_reply.started": "2024-05-01T03:03:37.791838Z"
    },
    "tags": []
   },
   "outputs": [
    {
     "data": {
      "text/plain": [
       "False"
      ]
     },
     "execution_count": 11,
     "metadata": {},
     "output_type": "execute_result"
    }
   ],
   "source": [
    "'33053381a' in m_obj"
   ]
  },
  {
   "cell_type": "code",
   "execution_count": 9,
   "id": "b2175d8c-5e08-49c8-9f3a-49cd5c786f1e",
   "metadata": {
    "execution": {
     "iopub.execute_input": "2024-05-01T03:02:51.801858Z",
     "iopub.status.busy": "2024-05-01T03:02:51.801440Z",
     "iopub.status.idle": "2024-05-01T03:02:51.808000Z",
     "shell.execute_reply": "2024-05-01T03:02:51.807377Z",
     "shell.execute_reply.started": "2024-05-01T03:02:51.801826Z"
    },
    "tags": []
   },
   "outputs": [
    {
     "data": {
      "text/plain": [
       "(384,)"
      ]
     },
     "execution_count": 9,
     "metadata": {},
     "output_type": "execute_result"
    }
   ],
   "source": [
    "# mean pooling for abstract embedding\n",
    "\n",
    "m_obj['33053381'].mean(axis=0).shape"
   ]
  },
  {
   "cell_type": "code",
   "execution_count": null,
   "id": "9e10b14b-4460-4225-a8c8-baa39f42f654",
   "metadata": {},
   "outputs": [],
   "source": []
  }
 ],
 "metadata": {
  "kernelspec": {
   "display_name": "Python [conda env:agatha_cgp_py_3_9]",
   "language": "python",
   "name": "conda-env-agatha_cgp_py_3_9-py"
  },
  "language_info": {
   "codemirror_mode": {
    "name": "ipython",
    "version": 3
   },
   "file_extension": ".py",
   "mimetype": "text/x-python",
   "name": "python",
   "nbconvert_exporter": "python",
   "pygments_lexer": "ipython3",
   "version": "3.9.13"
  }
 },
 "nbformat": 4,
 "nbformat_minor": 5
}
