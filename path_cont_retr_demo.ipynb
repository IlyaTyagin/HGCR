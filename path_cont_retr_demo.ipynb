{
 "cells": [
  {
   "cell_type": "markdown",
   "id": "9eb9b686-dd42-4ff4-8ff8-dffce051ff8d",
   "metadata": {},
   "source": [
    "# Demo for path context retriever"
   ]
  },
  {
   "cell_type": "code",
   "execution_count": 19,
   "id": "1a5b7d20-528d-4b35-8802-94bce678ab62",
   "metadata": {
    "execution": {
     "iopub.execute_input": "2024-05-11T02:39:04.743894Z",
     "iopub.status.busy": "2024-05-11T02:39:04.743383Z",
     "iopub.status.idle": "2024-05-11T02:39:04.748489Z",
     "shell.execute_reply": "2024-05-11T02:39:04.747265Z",
     "shell.execute_reply.started": "2024-05-11T02:39:04.743860Z"
    },
    "tags": []
   },
   "outputs": [],
   "source": [
    "from path_cont_retr import PathContextRetrieval"
   ]
  },
  {
   "cell_type": "code",
   "execution_count": 20,
   "id": "700cb4d5-4247-49f1-aa08-b86e753e5530",
   "metadata": {
    "execution": {
     "iopub.execute_input": "2024-05-11T02:39:05.722693Z",
     "iopub.status.busy": "2024-05-11T02:39:05.722294Z",
     "iopub.status.idle": "2024-05-11T02:40:39.479554Z",
     "shell.execute_reply": "2024-05-11T02:40:39.478626Z",
     "shell.execute_reply.started": "2024-05-11T02:39:05.722663Z"
    },
    "tags": []
   },
   "outputs": [
    {
     "name": "stdout",
     "output_type": "stream",
     "text": [
      "Init ranker model...\n",
      "Init node embeddings...\n",
      "Init co-occur graph...\n",
      "graph-tool network constructed!\n",
      "Init context embeddings...\n"
     ]
    },
    {
     "name": "stderr",
     "output_type": "stream",
     "text": [
      "Opening np chunks: 100%|█████████████████████████████████████████████████████████████████| 38/38 [00:01<00:00, 27.93it/s]\n",
      "Opening json index chunks: 100%|█████████████████████████████████████████████████████████| 38/38 [00:02<00:00, 16.34it/s]\n",
      "Constructing PMID lookup index: 100%|████████████████████████████████████████████████████| 38/38 [00:16<00:00,  2.30it/s]\n"
     ]
    }
   ],
   "source": [
    "path_cont_retr_obj = PathContextRetrieval(\n",
    "    config_path='/lustre/acslab/shared/LLM_stuff/llm_expl_shared_data/hgcr_config_051024_shared.json'\n",
    ")"
   ]
  },
  {
   "cell_type": "code",
   "execution_count": 3,
   "id": "b898b992-a951-4e53-a786-8acdd7921c28",
   "metadata": {
    "execution": {
     "iopub.execute_input": "2024-05-10T21:47:41.639837Z",
     "iopub.status.busy": "2024-05-10T21:47:41.639662Z",
     "iopub.status.idle": "2024-05-10T21:47:41.643826Z",
     "shell.execute_reply": "2024-05-10T21:47:41.643180Z",
     "shell.execute_reply.started": "2024-05-10T21:47:41.639821Z"
    },
    "tags": []
   },
   "outputs": [],
   "source": [
    "# Optional cell\n",
    "# Only run if you want to switch to abstract-level co-occurrence graph\n",
    "\n",
    "path_cont_retr_obj.config_dict['mcg_path'] = (\n",
    "    '/lustre/acslab/shared/LLM_stuff/llm_expl_shared_data/2021_11_22_cooc_graph_mcl.pkl'\n",
    ")\n",
    "\n",
    "path_cont_retr_obj.init_mcg()"
   ]
  },
  {
   "cell_type": "code",
   "execution_count": 18,
   "id": "bd26d162-2f90-4565-9c35-b9dbb4b27574",
   "metadata": {
    "execution": {
     "iopub.execute_input": "2024-05-11T02:38:51.222731Z",
     "iopub.status.busy": "2024-05-11T02:38:51.221860Z",
     "iopub.status.idle": "2024-05-11T02:38:51.228436Z",
     "shell.execute_reply": "2024-05-11T02:38:51.227839Z",
     "shell.execute_reply.started": "2024-05-11T02:38:51.222679Z"
    },
    "tags": []
   },
   "outputs": [
    {
     "data": {
      "text/plain": [
       "{'mcg_path': '/lustre/acslab/shared/LLM_stuff/llm_expl_shared_data/2021_11_22_cooc_graph_mcl.pkl',\n",
       " 'pmid_emb_path': '/lustre/acslab/users/2288/NLM_soft/MedCPT/medcpt_embs/',\n",
       " 'cui_ent_db_path': '/lustre/acslab/users/2288//Agatha_stuff/improvements/h5_sqlite_to_json_numpy/2021_11_22_data/21_11_22_predicate_entities_nodelbl_to_int_id_dict.json',\n",
       " 'cui_emb_path': '/lustre/acslab/users/2288/Agatha_stuff/improvements/h5_sqlite_to_json_numpy/2021_11_22_data/2021_11_22_predicate_embeddings_512.npy',\n",
       " 'model_path': '/lustre/acslab/users/2288/LLMs/KGs_integration/Agatha_semvis_llm/HGCR/path_ranking/saved_models/2024_05_09-0417/hgcr_model_v5_e2.cpkt',\n",
       " 'model_cont_emb_size': 768,\n",
       " 'model_node_emb_size': 512,\n",
       " 'model_embed_size': 128,\n",
       " 'model_num_heads': 2,\n",
       " 'model_att_dropout': 0.1,\n",
       " 'sp_doc_sample_rate_per_edge': 3,\n",
       " 'sp_vocab_path': '/lustre/acslab/users/2288/LLMs/KGs_integration/Agatha_semvis_llm/HGCR/training_set_prep/pos_samples_2021/cui_vocab_filt_97perc_list.json',\n",
       " 'cui_to_pref_name_path': '/lustre/acslab/users/2288/NLM_soft/UMLS_2021AB/CUI_to_pref_name_2021AB_dict.json'}"
      ]
     },
     "execution_count": 18,
     "metadata": {},
     "output_type": "execute_result"
    }
   ],
   "source": [
    "path_cont_retr_obj.config_dict"
   ]
  },
  {
   "cell_type": "markdown",
   "id": "888f96d0-ebce-4a03-b4c3-6ab474df6105",
   "metadata": {},
   "source": [
    "## Querying"
   ]
  },
  {
   "cell_type": "code",
   "execution_count": 5,
   "id": "0cdd7d6c-3607-4df4-9d75-1fbce013aa3f",
   "metadata": {
    "execution": {
     "iopub.execute_input": "2024-05-10T21:50:59.977202Z",
     "iopub.status.busy": "2024-05-10T21:50:59.976861Z",
     "iopub.status.idle": "2024-05-10T21:50:59.982031Z",
     "shell.execute_reply": "2024-05-10T21:50:59.981143Z",
     "shell.execute_reply.started": "2024-05-10T21:50:59.977170Z"
    },
    "tags": []
   },
   "outputs": [],
   "source": [
    "source_cui = 'C4285693'\n",
    "target_cui = 'C1439284'"
   ]
  },
  {
   "cell_type": "code",
   "execution_count": 6,
   "id": "babb61a3-86eb-46d4-b540-b771cac11871",
   "metadata": {
    "execution": {
     "iopub.execute_input": "2024-05-10T21:51:01.242741Z",
     "iopub.status.busy": "2024-05-10T21:51:01.242412Z",
     "iopub.status.idle": "2024-05-10T21:57:05.772490Z",
     "shell.execute_reply": "2024-05-10T21:57:05.771606Z",
     "shell.execute_reply.started": "2024-05-10T21:51:01.242702Z"
    },
    "tags": []
   },
   "outputs": [
    {
     "name": "stderr",
     "output_type": "stream",
     "text": [
      "Evaluating paths:  25%|████████████████▎                                               | 127/500 [00:25<02:31,  2.46it/s]"
     ]
    },
    {
     "name": "stdout",
     "output_type": "stream",
     "text": [
      "Exception: Embedding for node m:c0162488 is not found. for path: ['C4285693', 'C0162488', 'C0040028', 'C1439284']\n"
     ]
    },
    {
     "name": "stderr",
     "output_type": "stream",
     "text": [
      "Evaluating paths:  88%|████████████████████████████████████████████████████████▏       | 439/500 [01:56<00:04, 13.33it/s]"
     ]
    },
    {
     "name": "stdout",
     "output_type": "stream",
     "text": [
      "Exception: Embedding for node m:c0162488 is not found. for path: ['C4285693', 'C0162488', 'C1142644', 'C1439284']\n"
     ]
    },
    {
     "name": "stderr",
     "output_type": "stream",
     "text": [
      "Evaluating paths:  93%|███████████████████████████████████████████████████████████▊    | 467/500 [02:11<00:18,  1.81it/s]"
     ]
    },
    {
     "name": "stdout",
     "output_type": "stream",
     "text": [
      "Exception: Embedding for node m:c4505411 is not found. for path: ['C4285693', 'C4505411', 'C0740457', 'C1439284']\n"
     ]
    },
    {
     "name": "stderr",
     "output_type": "stream",
     "text": [
      "Evaluating paths: 100%|████████████████████████████████████████████████████████████████| 500/500 [02:29<00:00,  3.35it/s]\n"
     ]
    }
   ],
   "source": [
    "sp_df = path_cont_retr_obj.construct_shortest_paths_df(\n",
    "    source_cui,\n",
    "    target_cui,\n",
    "    n_eval_runs=3,\n",
    "    n_paths_sample_size=500, # for abstract-lvl co-oc graph the number of paths may be huge\n",
    ")"
   ]
  },
  {
   "cell_type": "code",
   "execution_count": 5,
   "id": "8e4b8631-fadc-4d8d-87aa-fbce069f0a81",
   "metadata": {
    "execution": {
     "iopub.execute_input": "2024-05-10T21:22:28.012244Z",
     "iopub.status.busy": "2024-05-10T21:22:28.011343Z",
     "iopub.status.idle": "2024-05-10T21:22:28.187382Z",
     "shell.execute_reply": "2024-05-10T21:22:28.186524Z",
     "shell.execute_reply.started": "2024-05-10T21:22:28.012186Z"
    },
    "tags": []
   },
   "outputs": [
    {
     "data": {
      "text/html": [
       "<div>\n",
       "<style scoped>\n",
       "    .dataframe tbody tr th:only-of-type {\n",
       "        vertical-align: middle;\n",
       "    }\n",
       "\n",
       "    .dataframe tbody tr th {\n",
       "        vertical-align: top;\n",
       "    }\n",
       "\n",
       "    .dataframe thead th {\n",
       "        text-align: right;\n",
       "    }\n",
       "</style>\n",
       "<table border=\"1\" class=\"dataframe\">\n",
       "  <thead>\n",
       "    <tr style=\"text-align: right;\">\n",
       "      <th></th>\n",
       "      <th>path</th>\n",
       "      <th>score_std</th>\n",
       "      <th>score_mean</th>\n",
       "      <th>dec_path</th>\n",
       "      <th>context_pmids</th>\n",
       "    </tr>\n",
       "  </thead>\n",
       "  <tbody>\n",
       "    <tr>\n",
       "      <th>227</th>\n",
       "      <td>[C4285693, C1823656, C0264939, C1439284]</td>\n",
       "      <td>0.000000</td>\n",
       "      <td>0.999732</td>\n",
       "      <td>[HIV-associated neurocognitive disorder, WAPL ...</td>\n",
       "      <td>{('C4285693', 'C1823656'): ['34440127'], ('C18...</td>\n",
       "    </tr>\n",
       "    <tr>\n",
       "      <th>99</th>\n",
       "      <td>[C4285693, C1823656, C1538915, C1439284]</td>\n",
       "      <td>0.000000</td>\n",
       "      <td>0.999694</td>\n",
       "      <td>[HIV-associated neurocognitive disorder, WAPL ...</td>\n",
       "      <td>{('C4285693', 'C1823656'): ['34440127'], ('C18...</td>\n",
       "    </tr>\n",
       "    <tr>\n",
       "      <th>17</th>\n",
       "      <td>[C4285693, C0001849, C2752009, C1439284]</td>\n",
       "      <td>0.000031</td>\n",
       "      <td>0.999692</td>\n",
       "      <td>[HIV-associated neurocognitive disorder, AIDS ...</td>\n",
       "      <td>{('C4285693', 'C0001849'): ['32032278', '32875...</td>\n",
       "    </tr>\n",
       "    <tr>\n",
       "      <th>86</th>\n",
       "      <td>[C4285693, C0897640, C3850148, C1439284]</td>\n",
       "      <td>0.000000</td>\n",
       "      <td>0.999671</td>\n",
       "      <td>[HIV-associated neurocognitive disorder, tansh...</td>\n",
       "      <td>{('C4285693', 'C0897640'): ['33426056', '32185...</td>\n",
       "    </tr>\n",
       "    <tr>\n",
       "      <th>18</th>\n",
       "      <td>[C4285693, C1413772, C3850148, C1439284]</td>\n",
       "      <td>0.000000</td>\n",
       "      <td>0.999574</td>\n",
       "      <td>[HIV-associated neurocognitive disorder, CST3 ...</td>\n",
       "      <td>{('C4285693', 'C1413772'): ['30939531'], ('C14...</td>\n",
       "    </tr>\n",
       "    <tr>\n",
       "      <th>...</th>\n",
       "      <td>...</td>\n",
       "      <td>...</td>\n",
       "      <td>...</td>\n",
       "      <td>...</td>\n",
       "      <td>...</td>\n",
       "    </tr>\n",
       "    <tr>\n",
       "      <th>236</th>\n",
       "      <td>[C4285693, C0032172, C3887559, C1439284]</td>\n",
       "      <td>0.000000</td>\n",
       "      <td>0.802866</td>\n",
       "      <td>[HIV-associated neurocognitive disorder, Plate...</td>\n",
       "      <td>{('C4285693', 'C0032172'): ['19541372'], ('C00...</td>\n",
       "    </tr>\n",
       "    <tr>\n",
       "      <th>292</th>\n",
       "      <td>[C4285693, C0235946, C1144173, C1439284]</td>\n",
       "      <td>0.000000</td>\n",
       "      <td>0.792951</td>\n",
       "      <td>[HIV-associated neurocognitive disorder, Cereb...</td>\n",
       "      <td>{('C4285693', 'C0235946'): ['31425903'], ('C02...</td>\n",
       "    </tr>\n",
       "    <tr>\n",
       "      <th>42</th>\n",
       "      <td>[C4285693, C0032172, C1419227, C1439284]</td>\n",
       "      <td>0.000000</td>\n",
       "      <td>0.791550</td>\n",
       "      <td>[HIV-associated neurocognitive disorder, Plate...</td>\n",
       "      <td>{('C4285693', 'C0032172'): ['19541372'], ('C00...</td>\n",
       "    </tr>\n",
       "    <tr>\n",
       "      <th>300</th>\n",
       "      <td>[C4285693, C3146324, C0027625, C1439284]</td>\n",
       "      <td>0.000000</td>\n",
       "      <td>0.753528</td>\n",
       "      <td>[HIV-associated neurocognitive disorder, RBFOX...</td>\n",
       "      <td>{('C4285693', 'C3146324'): ['24215932'], ('C31...</td>\n",
       "    </tr>\n",
       "    <tr>\n",
       "      <th>235</th>\n",
       "      <td>[C4285693, C1823656, C0027625, C1439284]</td>\n",
       "      <td>0.000000</td>\n",
       "      <td>0.681359</td>\n",
       "      <td>[HIV-associated neurocognitive disorder, WAPL ...</td>\n",
       "      <td>{('C4285693', 'C1823656'): ['34440127'], ('C18...</td>\n",
       "    </tr>\n",
       "  </tbody>\n",
       "</table>\n",
       "<p>317 rows × 5 columns</p>\n",
       "</div>"
      ],
      "text/plain": [
       "                                         path  score_std  score_mean  \\\n",
       "227  [C4285693, C1823656, C0264939, C1439284]   0.000000    0.999732   \n",
       "99   [C4285693, C1823656, C1538915, C1439284]   0.000000    0.999694   \n",
       "17   [C4285693, C0001849, C2752009, C1439284]   0.000031    0.999692   \n",
       "86   [C4285693, C0897640, C3850148, C1439284]   0.000000    0.999671   \n",
       "18   [C4285693, C1413772, C3850148, C1439284]   0.000000    0.999574   \n",
       "..                                        ...        ...         ...   \n",
       "236  [C4285693, C0032172, C3887559, C1439284]   0.000000    0.802866   \n",
       "292  [C4285693, C0235946, C1144173, C1439284]   0.000000    0.792951   \n",
       "42   [C4285693, C0032172, C1419227, C1439284]   0.000000    0.791550   \n",
       "300  [C4285693, C3146324, C0027625, C1439284]   0.000000    0.753528   \n",
       "235  [C4285693, C1823656, C0027625, C1439284]   0.000000    0.681359   \n",
       "\n",
       "                                              dec_path  \\\n",
       "227  [HIV-associated neurocognitive disorder, WAPL ...   \n",
       "99   [HIV-associated neurocognitive disorder, WAPL ...   \n",
       "17   [HIV-associated neurocognitive disorder, AIDS ...   \n",
       "86   [HIV-associated neurocognitive disorder, tansh...   \n",
       "18   [HIV-associated neurocognitive disorder, CST3 ...   \n",
       "..                                                 ...   \n",
       "236  [HIV-associated neurocognitive disorder, Plate...   \n",
       "292  [HIV-associated neurocognitive disorder, Cereb...   \n",
       "42   [HIV-associated neurocognitive disorder, Plate...   \n",
       "300  [HIV-associated neurocognitive disorder, RBFOX...   \n",
       "235  [HIV-associated neurocognitive disorder, WAPL ...   \n",
       "\n",
       "                                         context_pmids  \n",
       "227  {('C4285693', 'C1823656'): ['34440127'], ('C18...  \n",
       "99   {('C4285693', 'C1823656'): ['34440127'], ('C18...  \n",
       "17   {('C4285693', 'C0001849'): ['32032278', '32875...  \n",
       "86   {('C4285693', 'C0897640'): ['33426056', '32185...  \n",
       "18   {('C4285693', 'C1413772'): ['30939531'], ('C14...  \n",
       "..                                                 ...  \n",
       "236  {('C4285693', 'C0032172'): ['19541372'], ('C00...  \n",
       "292  {('C4285693', 'C0235946'): ['31425903'], ('C02...  \n",
       "42   {('C4285693', 'C0032172'): ['19541372'], ('C00...  \n",
       "300  {('C4285693', 'C3146324'): ['24215932'], ('C31...  \n",
       "235  {('C4285693', 'C1823656'): ['34440127'], ('C18...  \n",
       "\n",
       "[317 rows x 5 columns]"
      ]
     },
     "execution_count": 5,
     "metadata": {},
     "output_type": "execute_result"
    }
   ],
   "source": [
    "sp_df"
   ]
  },
  {
   "cell_type": "code",
   "execution_count": 8,
   "id": "a460eb93-aa9a-4cde-b1de-8d26a2d0f13b",
   "metadata": {
    "execution": {
     "iopub.execute_input": "2024-05-09T00:06:10.506272Z",
     "iopub.status.busy": "2024-05-09T00:06:10.505506Z",
     "iopub.status.idle": "2024-05-09T00:06:10.547250Z",
     "shell.execute_reply": "2024-05-09T00:06:10.546324Z",
     "shell.execute_reply.started": "2024-05-09T00:06:10.506225Z"
    },
    "tags": []
   },
   "outputs": [
    {
     "data": {
      "text/plain": [
       "[['HIV-associated neurocognitive disorder',\n",
       "  'WAPL gene',\n",
       "  'Conn Syndrome',\n",
       "  'AGTR1 gene'],\n",
       " ['HIV-associated neurocognitive disorder',\n",
       "  'WAPL gene',\n",
       "  'Systemic Vasculitis',\n",
       "  'AGTR1 gene'],\n",
       " ['HIV-associated neurocognitive disorder',\n",
       "  'WAPL gene',\n",
       "  'APLN gene',\n",
       "  'AGTR1 gene'],\n",
       " ['HIV-associated neurocognitive disorder',\n",
       "  'FOXO3 gene',\n",
       "  'APLN gene',\n",
       "  'AGTR1 gene'],\n",
       " ['HIV-associated neurocognitive disorder',\n",
       "  'CST3 gene',\n",
       "  'Conn Syndrome',\n",
       "  'AGTR1 gene']]"
      ]
     },
     "execution_count": 8,
     "metadata": {},
     "output_type": "execute_result"
    }
   ],
   "source": [
    "sp_df[:5]['dec_path'].to_list()"
   ]
  },
  {
   "cell_type": "code",
   "execution_count": 9,
   "id": "84b7bf1b-b67f-4bc5-b192-4471ea8fdf46",
   "metadata": {
    "execution": {
     "iopub.execute_input": "2024-05-09T00:06:20.956612Z",
     "iopub.status.busy": "2024-05-09T00:06:20.956195Z",
     "iopub.status.idle": "2024-05-09T00:06:20.994657Z",
     "shell.execute_reply": "2024-05-09T00:06:20.994212Z",
     "shell.execute_reply.started": "2024-05-09T00:06:20.956581Z"
    },
    "tags": []
   },
   "outputs": [
    {
     "data": {
      "text/plain": [
       "[{('C4285693', 'C1823656'): ['34440127'],\n",
       "  ('C1823656', 'C1384514'): ['31863347'],\n",
       "  ('C1384514', 'C1439284'): ['25172908']},\n",
       " {('C4285693', 'C1823656'): ['34440127'],\n",
       "  ('C1823656', 'C0264939'): ['32083537'],\n",
       "  ('C0264939', 'C1439284'): ['21936613']},\n",
       " {('C4285693', 'C1823656'): ['34440127'],\n",
       "  ('C1823656', 'C1538915'): ['16298469', '33169143'],\n",
       "  ('C1538915', 'C1439284'): ['31210947', '34107716']},\n",
       " {('C4285693', 'C1333573'): ['30778283'],\n",
       "  ('C1333573', 'C1538915'): ['26542760'],\n",
       "  ('C1538915', 'C1439284'): ['31210947', '34107716']},\n",
       " {('C4285693', 'C1413772'): ['30939531'],\n",
       "  ('C1413772', 'C1384514'): ['21738054'],\n",
       "  ('C1384514', 'C1439284'): ['25172908']}]"
      ]
     },
     "execution_count": 9,
     "metadata": {},
     "output_type": "execute_result"
    }
   ],
   "source": [
    "sp_df[:5]['context_pmids'].to_list()"
   ]
  }
 ],
 "metadata": {
  "kernelspec": {
   "display_name": "Python [conda env:agatha_cgp_py_3_9]",
   "language": "python",
   "name": "conda-env-agatha_cgp_py_3_9-py"
  },
  "language_info": {
   "codemirror_mode": {
    "name": "ipython",
    "version": 3
   },
   "file_extension": ".py",
   "mimetype": "text/x-python",
   "name": "python",
   "nbconvert_exporter": "python",
   "pygments_lexer": "ipython3",
   "version": "3.9.13"
  }
 },
 "nbformat": 4,
 "nbformat_minor": 5
}
