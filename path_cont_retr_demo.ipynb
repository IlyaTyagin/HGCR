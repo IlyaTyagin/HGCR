{
 "cells": [
  {
   "cell_type": "markdown",
   "id": "9eb9b686-dd42-4ff4-8ff8-dffce051ff8d",
   "metadata": {},
   "source": [
    "# Demo for path context retriever"
   ]
  },
  {
   "cell_type": "code",
   "execution_count": 2,
   "id": "1a5b7d20-528d-4b35-8802-94bce678ab62",
   "metadata": {
    "execution": {
     "iopub.execute_input": "2024-05-09T00:02:31.199044Z",
     "iopub.status.busy": "2024-05-09T00:02:31.198641Z",
     "iopub.status.idle": "2024-05-09T00:02:36.194430Z",
     "shell.execute_reply": "2024-05-09T00:02:36.193436Z",
     "shell.execute_reply.started": "2024-05-09T00:02:31.199014Z"
    },
    "tags": []
   },
   "outputs": [],
   "source": [
    "from path_cont_retr import PathContextRetrieval"
   ]
  },
  {
   "cell_type": "code",
   "execution_count": 4,
   "id": "700cb4d5-4247-49f1-aa08-b86e753e5530",
   "metadata": {
    "execution": {
     "iopub.execute_input": "2024-05-09T00:03:14.208277Z",
     "iopub.status.busy": "2024-05-09T00:03:14.207671Z",
     "iopub.status.idle": "2024-05-09T00:04:32.790842Z",
     "shell.execute_reply": "2024-05-09T00:04:32.790125Z",
     "shell.execute_reply.started": "2024-05-09T00:03:14.208244Z"
    },
    "tags": []
   },
   "outputs": [
    {
     "name": "stdout",
     "output_type": "stream",
     "text": [
      "Init ranker model...\n",
      "Init node embeddings...\n",
      "Init co-occur graph...\n",
      "graph-tool network constructed!\n",
      "Init context embeddings...\n"
     ]
    },
    {
     "name": "stderr",
     "output_type": "stream",
     "text": [
      "Opening np chunks: 100%|█████████████████████████████████████████████████████████████| 38/38 [00:00<00:00, 439.98it/s]\n",
      "Opening json index chunks: 100%|██████████████████████████████████████████████████████| 38/38 [00:01<00:00, 19.51it/s]\n",
      "Constructing PMID lookup index: 100%|█████████████████████████████████████████████████| 38/38 [00:15<00:00,  2.51it/s]\n"
     ]
    }
   ],
   "source": [
    "path_cont_retr_obj = PathContextRetrieval(\n",
    "    config_path='hgcr_config_080524.json'\n",
    ")"
   ]
  },
  {
   "cell_type": "markdown",
   "id": "888f96d0-ebce-4a03-b4c3-6ab474df6105",
   "metadata": {},
   "source": [
    "## Querying"
   ]
  },
  {
   "cell_type": "code",
   "execution_count": 5,
   "id": "0cdd7d6c-3607-4df4-9d75-1fbce013aa3f",
   "metadata": {
    "execution": {
     "iopub.execute_input": "2024-05-09T00:04:37.476153Z",
     "iopub.status.busy": "2024-05-09T00:04:37.475864Z",
     "iopub.status.idle": "2024-05-09T00:04:37.519635Z",
     "shell.execute_reply": "2024-05-09T00:04:37.519013Z",
     "shell.execute_reply.started": "2024-05-09T00:04:37.476138Z"
    },
    "tags": []
   },
   "outputs": [],
   "source": [
    "source_cui = 'C4285693'\n",
    "target_cui = 'C1439284'"
   ]
  },
  {
   "cell_type": "code",
   "execution_count": 6,
   "id": "babb61a3-86eb-46d4-b540-b771cac11871",
   "metadata": {
    "execution": {
     "iopub.execute_input": "2024-05-09T00:04:56.984927Z",
     "iopub.status.busy": "2024-05-09T00:04:56.984574Z",
     "iopub.status.idle": "2024-05-09T00:05:48.487462Z",
     "shell.execute_reply": "2024-05-09T00:05:48.486622Z",
     "shell.execute_reply.started": "2024-05-09T00:04:56.984897Z"
    },
    "tags": []
   },
   "outputs": [
    {
     "name": "stderr",
     "output_type": "stream",
     "text": [
      "Evaluating paths: 100%|█████████████████████████████████████████████████████████████| 317/317 [00:33<00:00,  9.32it/s]\n"
     ]
    }
   ],
   "source": [
    "sp_df = path_cont_retr_obj.construct_shortest_paths_df(source_cui, target_cui)"
   ]
  },
  {
   "cell_type": "code",
   "execution_count": 7,
   "id": "8e4b8631-fadc-4d8d-87aa-fbce069f0a81",
   "metadata": {
    "execution": {
     "iopub.execute_input": "2024-05-09T00:05:50.228551Z",
     "iopub.status.busy": "2024-05-09T00:05:50.227711Z",
     "iopub.status.idle": "2024-05-09T00:05:50.301554Z",
     "shell.execute_reply": "2024-05-09T00:05:50.300740Z",
     "shell.execute_reply.started": "2024-05-09T00:05:50.228516Z"
    },
    "tags": []
   },
   "outputs": [
    {
     "data": {
      "text/html": [
       "<div>\n",
       "<style scoped>\n",
       "    .dataframe tbody tr th:only-of-type {\n",
       "        vertical-align: middle;\n",
       "    }\n",
       "\n",
       "    .dataframe tbody tr th {\n",
       "        vertical-align: top;\n",
       "    }\n",
       "\n",
       "    .dataframe thead th {\n",
       "        text-align: right;\n",
       "    }\n",
       "</style>\n",
       "<table border=\"1\" class=\"dataframe\">\n",
       "  <thead>\n",
       "    <tr style=\"text-align: right;\">\n",
       "      <th></th>\n",
       "      <th>path</th>\n",
       "      <th>score_std</th>\n",
       "      <th>score_mean</th>\n",
       "      <th>dec_path</th>\n",
       "      <th>context_pmids</th>\n",
       "    </tr>\n",
       "  </thead>\n",
       "  <tbody>\n",
       "    <tr>\n",
       "      <th>299</th>\n",
       "      <td>[C4285693, C1823656, C1384514, C1439284]</td>\n",
       "      <td>0.0</td>\n",
       "      <td>0.988141</td>\n",
       "      <td>[HIV-associated neurocognitive disorder, WAPL ...</td>\n",
       "      <td>{('C4285693', 'C1823656'): ['34440127'], ('C18...</td>\n",
       "    </tr>\n",
       "    <tr>\n",
       "      <th>227</th>\n",
       "      <td>[C4285693, C1823656, C0264939, C1439284]</td>\n",
       "      <td>0.0</td>\n",
       "      <td>0.981263</td>\n",
       "      <td>[HIV-associated neurocognitive disorder, WAPL ...</td>\n",
       "      <td>{('C4285693', 'C1823656'): ['34440127'], ('C18...</td>\n",
       "    </tr>\n",
       "    <tr>\n",
       "      <th>99</th>\n",
       "      <td>[C4285693, C1823656, C1538915, C1439284]</td>\n",
       "      <td>0.0</td>\n",
       "      <td>0.977834</td>\n",
       "      <td>[HIV-associated neurocognitive disorder, WAPL ...</td>\n",
       "      <td>{('C4285693', 'C1823656'): ['34440127'], ('C18...</td>\n",
       "    </tr>\n",
       "    <tr>\n",
       "      <th>243</th>\n",
       "      <td>[C4285693, C1333573, C1538915, C1439284]</td>\n",
       "      <td>0.0</td>\n",
       "      <td>0.977261</td>\n",
       "      <td>[HIV-associated neurocognitive disorder, FOXO3...</td>\n",
       "      <td>{('C4285693', 'C1333573'): ['30778283'], ('C13...</td>\n",
       "    </tr>\n",
       "    <tr>\n",
       "      <th>84</th>\n",
       "      <td>[C4285693, C1413772, C1384514, C1439284]</td>\n",
       "      <td>0.0</td>\n",
       "      <td>0.974669</td>\n",
       "      <td>[HIV-associated neurocognitive disorder, CST3 ...</td>\n",
       "      <td>{('C4285693', 'C1413772'): ['30939531'], ('C14...</td>\n",
       "    </tr>\n",
       "    <tr>\n",
       "      <th>...</th>\n",
       "      <td>...</td>\n",
       "      <td>...</td>\n",
       "      <td>...</td>\n",
       "      <td>...</td>\n",
       "      <td>...</td>\n",
       "    </tr>\n",
       "    <tr>\n",
       "      <th>292</th>\n",
       "      <td>[C4285693, C0235946, C1144173, C1439284]</td>\n",
       "      <td>0.0</td>\n",
       "      <td>0.165513</td>\n",
       "      <td>[HIV-associated neurocognitive disorder, Cereb...</td>\n",
       "      <td>{('C4285693', 'C0235946'): ['31425903'], ('C02...</td>\n",
       "    </tr>\n",
       "    <tr>\n",
       "      <th>255</th>\n",
       "      <td>[C4285693, C1419790, C1419818, C1439284]</td>\n",
       "      <td>0.0</td>\n",
       "      <td>0.098285</td>\n",
       "      <td>[HIV-associated neurocognitive disorder, S100B...</td>\n",
       "      <td>{('C4285693', 'C1419790'): ['31278533'], ('C14...</td>\n",
       "    </tr>\n",
       "    <tr>\n",
       "      <th>188</th>\n",
       "      <td>[C4285693, C0672708, C1414371, C1439284]</td>\n",
       "      <td>0.0</td>\n",
       "      <td>0.091461</td>\n",
       "      <td>[HIV-associated neurocognitive disorder, vorin...</td>\n",
       "      <td>{('C4285693', 'C0672708'): ['24886748'], ('C06...</td>\n",
       "    </tr>\n",
       "    <tr>\n",
       "      <th>251</th>\n",
       "      <td>[C4285693, C0235946, C0074554, C1439284]</td>\n",
       "      <td>0.0</td>\n",
       "      <td>0.050646</td>\n",
       "      <td>[HIV-associated neurocognitive disorder, Cereb...</td>\n",
       "      <td>{('C4285693', 'C0235946'): ['31425903'], ('C02...</td>\n",
       "    </tr>\n",
       "    <tr>\n",
       "      <th>102</th>\n",
       "      <td>[C4285693, C0235946, C0752304, C1439284]</td>\n",
       "      <td>0.0</td>\n",
       "      <td>0.032125</td>\n",
       "      <td>[HIV-associated neurocognitive disorder, Cereb...</td>\n",
       "      <td>{('C4285693', 'C0235946'): ['31425903'], ('C02...</td>\n",
       "    </tr>\n",
       "  </tbody>\n",
       "</table>\n",
       "<p>317 rows × 5 columns</p>\n",
       "</div>"
      ],
      "text/plain": [
       "                                         path  score_std  score_mean  \\\n",
       "299  [C4285693, C1823656, C1384514, C1439284]        0.0    0.988141   \n",
       "227  [C4285693, C1823656, C0264939, C1439284]        0.0    0.981263   \n",
       "99   [C4285693, C1823656, C1538915, C1439284]        0.0    0.977834   \n",
       "243  [C4285693, C1333573, C1538915, C1439284]        0.0    0.977261   \n",
       "84   [C4285693, C1413772, C1384514, C1439284]        0.0    0.974669   \n",
       "..                                        ...        ...         ...   \n",
       "292  [C4285693, C0235946, C1144173, C1439284]        0.0    0.165513   \n",
       "255  [C4285693, C1419790, C1419818, C1439284]        0.0    0.098285   \n",
       "188  [C4285693, C0672708, C1414371, C1439284]        0.0    0.091461   \n",
       "251  [C4285693, C0235946, C0074554, C1439284]        0.0    0.050646   \n",
       "102  [C4285693, C0235946, C0752304, C1439284]        0.0    0.032125   \n",
       "\n",
       "                                              dec_path  \\\n",
       "299  [HIV-associated neurocognitive disorder, WAPL ...   \n",
       "227  [HIV-associated neurocognitive disorder, WAPL ...   \n",
       "99   [HIV-associated neurocognitive disorder, WAPL ...   \n",
       "243  [HIV-associated neurocognitive disorder, FOXO3...   \n",
       "84   [HIV-associated neurocognitive disorder, CST3 ...   \n",
       "..                                                 ...   \n",
       "292  [HIV-associated neurocognitive disorder, Cereb...   \n",
       "255  [HIV-associated neurocognitive disorder, S100B...   \n",
       "188  [HIV-associated neurocognitive disorder, vorin...   \n",
       "251  [HIV-associated neurocognitive disorder, Cereb...   \n",
       "102  [HIV-associated neurocognitive disorder, Cereb...   \n",
       "\n",
       "                                         context_pmids  \n",
       "299  {('C4285693', 'C1823656'): ['34440127'], ('C18...  \n",
       "227  {('C4285693', 'C1823656'): ['34440127'], ('C18...  \n",
       "99   {('C4285693', 'C1823656'): ['34440127'], ('C18...  \n",
       "243  {('C4285693', 'C1333573'): ['30778283'], ('C13...  \n",
       "84   {('C4285693', 'C1413772'): ['30939531'], ('C14...  \n",
       "..                                                 ...  \n",
       "292  {('C4285693', 'C0235946'): ['31425903'], ('C02...  \n",
       "255  {('C4285693', 'C1419790'): ['31278533'], ('C14...  \n",
       "188  {('C4285693', 'C0672708'): ['24886748'], ('C06...  \n",
       "251  {('C4285693', 'C0235946'): ['31425903'], ('C02...  \n",
       "102  {('C4285693', 'C0235946'): ['31425903'], ('C02...  \n",
       "\n",
       "[317 rows x 5 columns]"
      ]
     },
     "execution_count": 7,
     "metadata": {},
     "output_type": "execute_result"
    }
   ],
   "source": [
    "sp_df"
   ]
  },
  {
   "cell_type": "code",
   "execution_count": 8,
   "id": "a460eb93-aa9a-4cde-b1de-8d26a2d0f13b",
   "metadata": {
    "execution": {
     "iopub.execute_input": "2024-05-09T00:06:10.506272Z",
     "iopub.status.busy": "2024-05-09T00:06:10.505506Z",
     "iopub.status.idle": "2024-05-09T00:06:10.547250Z",
     "shell.execute_reply": "2024-05-09T00:06:10.546324Z",
     "shell.execute_reply.started": "2024-05-09T00:06:10.506225Z"
    },
    "tags": []
   },
   "outputs": [
    {
     "data": {
      "text/plain": [
       "[['HIV-associated neurocognitive disorder',\n",
       "  'WAPL gene',\n",
       "  'Conn Syndrome',\n",
       "  'AGTR1 gene'],\n",
       " ['HIV-associated neurocognitive disorder',\n",
       "  'WAPL gene',\n",
       "  'Systemic Vasculitis',\n",
       "  'AGTR1 gene'],\n",
       " ['HIV-associated neurocognitive disorder',\n",
       "  'WAPL gene',\n",
       "  'APLN gene',\n",
       "  'AGTR1 gene'],\n",
       " ['HIV-associated neurocognitive disorder',\n",
       "  'FOXO3 gene',\n",
       "  'APLN gene',\n",
       "  'AGTR1 gene'],\n",
       " ['HIV-associated neurocognitive disorder',\n",
       "  'CST3 gene',\n",
       "  'Conn Syndrome',\n",
       "  'AGTR1 gene']]"
      ]
     },
     "execution_count": 8,
     "metadata": {},
     "output_type": "execute_result"
    }
   ],
   "source": [
    "sp_df[:5]['dec_path'].to_list()"
   ]
  },
  {
   "cell_type": "code",
   "execution_count": 9,
   "id": "84b7bf1b-b67f-4bc5-b192-4471ea8fdf46",
   "metadata": {
    "execution": {
     "iopub.execute_input": "2024-05-09T00:06:20.956612Z",
     "iopub.status.busy": "2024-05-09T00:06:20.956195Z",
     "iopub.status.idle": "2024-05-09T00:06:20.994657Z",
     "shell.execute_reply": "2024-05-09T00:06:20.994212Z",
     "shell.execute_reply.started": "2024-05-09T00:06:20.956581Z"
    },
    "tags": []
   },
   "outputs": [
    {
     "data": {
      "text/plain": [
       "[{('C4285693', 'C1823656'): ['34440127'],\n",
       "  ('C1823656', 'C1384514'): ['31863347'],\n",
       "  ('C1384514', 'C1439284'): ['25172908']},\n",
       " {('C4285693', 'C1823656'): ['34440127'],\n",
       "  ('C1823656', 'C0264939'): ['32083537'],\n",
       "  ('C0264939', 'C1439284'): ['21936613']},\n",
       " {('C4285693', 'C1823656'): ['34440127'],\n",
       "  ('C1823656', 'C1538915'): ['16298469', '33169143'],\n",
       "  ('C1538915', 'C1439284'): ['31210947', '34107716']},\n",
       " {('C4285693', 'C1333573'): ['30778283'],\n",
       "  ('C1333573', 'C1538915'): ['26542760'],\n",
       "  ('C1538915', 'C1439284'): ['31210947', '34107716']},\n",
       " {('C4285693', 'C1413772'): ['30939531'],\n",
       "  ('C1413772', 'C1384514'): ['21738054'],\n",
       "  ('C1384514', 'C1439284'): ['25172908']}]"
      ]
     },
     "execution_count": 9,
     "metadata": {},
     "output_type": "execute_result"
    }
   ],
   "source": [
    "sp_df[:5]['context_pmids'].to_list()"
   ]
  },
  {
   "cell_type": "code",
   "execution_count": null,
   "id": "704a7a9a-1f11-4d4d-a483-bb59c5968cca",
   "metadata": {},
   "outputs": [],
   "source": []
  }
 ],
 "metadata": {
  "kernelspec": {
   "display_name": "Python [conda env:agatha_cgp_py_3_9]",
   "language": "python",
   "name": "conda-env-agatha_cgp_py_3_9-py"
  },
  "language_info": {
   "codemirror_mode": {
    "name": "ipython",
    "version": 3
   },
   "file_extension": ".py",
   "mimetype": "text/x-python",
   "name": "python",
   "nbconvert_exporter": "python",
   "pygments_lexer": "ipython3",
   "version": "3.9.13"
  }
 },
 "nbformat": 4,
 "nbformat_minor": 5
}
