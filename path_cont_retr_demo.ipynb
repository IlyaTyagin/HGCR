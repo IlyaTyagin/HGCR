{
 "cells": [
  {
   "cell_type": "markdown",
   "id": "9eb9b686-dd42-4ff4-8ff8-dffce051ff8d",
   "metadata": {},
   "source": [
    "# Demo for path context retriever"
   ]
  },
  {
   "cell_type": "code",
   "execution_count": 1,
   "id": "1a5b7d20-528d-4b35-8802-94bce678ab62",
   "metadata": {
    "execution": {
     "iopub.execute_input": "2024-07-19T01:26:03.187448Z",
     "iopub.status.busy": "2024-07-19T01:26:03.186997Z",
     "iopub.status.idle": "2024-07-19T01:26:30.734487Z",
     "shell.execute_reply": "2024-07-19T01:26:30.733385Z",
     "shell.execute_reply.started": "2024-07-19T01:26:03.187347Z"
    },
    "tags": []
   },
   "outputs": [],
   "source": [
    "from path_cont_retr import PathContextRetrieval"
   ]
  },
  {
   "cell_type": "code",
   "execution_count": 2,
   "id": "700cb4d5-4247-49f1-aa08-b86e753e5530",
   "metadata": {
    "execution": {
     "iopub.execute_input": "2024-07-19T01:26:30.737878Z",
     "iopub.status.busy": "2024-07-19T01:26:30.737040Z",
     "iopub.status.idle": "2024-07-19T01:28:05.953521Z",
     "shell.execute_reply": "2024-07-19T01:28:05.951920Z",
     "shell.execute_reply.started": "2024-07-19T01:26:30.737840Z"
    },
    "tags": []
   },
   "outputs": [
    {
     "name": "stdout",
     "output_type": "stream",
     "text": [
      "Init ranker model...\n",
      "Init node embeddings...\n",
      "Init co-occur graph...\n",
      "graph-tool network constructed!\n",
      "Init context embeddings...\n",
      "Using MedCPT\n"
     ]
    },
    {
     "name": "stderr",
     "output_type": "stream",
     "text": [
      "Opening np chunks: 100%|█████████████████████████████████████████████████████████████| 38/38 [00:00<00:00, 722.21it/s]\n",
      "Opening json index chunks: 100%|██████████████████████████████████████████████████████| 38/38 [00:04<00:00,  9.34it/s]\n",
      "Constructing PMID lookup index: 100%|█████████████████████████████████████████████████| 38/38 [00:17<00:00,  2.22it/s]\n"
     ]
    }
   ],
   "source": [
    "path_cont_retr_obj = PathContextRetrieval(\n",
    "    config_path='/lustre/acslab/shared/LLM_stuff/llm_expl_shared_data/hgcr_config_051024_shared.json'\n",
    ")"
   ]
  },
  {
   "cell_type": "code",
   "execution_count": null,
   "id": "b898b992-a951-4e53-a786-8acdd7921c28",
   "metadata": {
    "execution": {
     "iopub.execute_input": "2024-07-13T23:00:11.370813Z",
     "iopub.status.busy": "2024-07-13T23:00:11.370657Z"
    },
    "tags": []
   },
   "outputs": [
    {
     "name": "stdout",
     "output_type": "stream",
     "text": [
      "Init co-occur graph...\n"
     ]
    }
   ],
   "source": [
    "# Optional cell\n",
    "# Only run if you want to switch to abstract-level co-occurrence graph\n",
    "\n",
    "path_cont_retr_obj.config_dict['mcg_path'] = (\n",
    "    '/lustre/acslab/shared/LLM_stuff/llm_expl_shared_data/2021_11_22_cooc_graph_mcl.pkl'\n",
    ")\n",
    "\n",
    "path_cont_retr_obj.init_mcg()"
   ]
  },
  {
   "cell_type": "markdown",
   "id": "888f96d0-ebce-4a03-b4c3-6ab474df6105",
   "metadata": {},
   "source": [
    "## Querying"
   ]
  },
  {
   "cell_type": "code",
   "execution_count": 3,
   "id": "0cdd7d6c-3607-4df4-9d75-1fbce013aa3f",
   "metadata": {
    "execution": {
     "iopub.execute_input": "2024-07-19T01:28:05.956033Z",
     "iopub.status.busy": "2024-07-19T01:28:05.955622Z",
     "iopub.status.idle": "2024-07-19T01:28:05.962554Z",
     "shell.execute_reply": "2024-07-19T01:28:05.961662Z",
     "shell.execute_reply.started": "2024-07-19T01:28:05.955999Z"
    },
    "tags": []
   },
   "outputs": [],
   "source": [
    "source_cui = 'C1414263' # EDNRB\n",
    "target_cui = 'C0252643' # Bosentan"
   ]
  },
  {
   "cell_type": "code",
   "execution_count": 4,
   "id": "babb61a3-86eb-46d4-b540-b771cac11871",
   "metadata": {
    "execution": {
     "iopub.execute_input": "2024-07-19T01:28:05.964811Z",
     "iopub.status.busy": "2024-07-19T01:28:05.964199Z",
     "iopub.status.idle": "2024-07-19T01:28:16.502541Z",
     "shell.execute_reply": "2024-07-19T01:28:16.501970Z",
     "shell.execute_reply.started": "2024-07-19T01:28:05.964789Z"
    },
    "tags": []
   },
   "outputs": [
    {
     "name": "stderr",
     "output_type": "stream",
     "text": [
      "Evaluating paths: 100%|█████████████████████████████████████████████████████████████████| 1/1 [00:01<00:00,  1.10s/it]\n"
     ]
    }
   ],
   "source": [
    "sp_df = path_cont_retr_obj.construct_shortest_paths_df(\n",
    "    source_cui,\n",
    "    target_cui,\n",
    "    n_eval_runs=3,\n",
    "    n_paths_sample_size=20, # for abstract-lvl co-oc graph the number of paths may be huge\n",
    ")"
   ]
  },
  {
   "cell_type": "code",
   "execution_count": 5,
   "id": "8e4b8631-fadc-4d8d-87aa-fbce069f0a81",
   "metadata": {
    "execution": {
     "iopub.execute_input": "2024-07-19T01:28:16.503333Z",
     "iopub.status.busy": "2024-07-19T01:28:16.503177Z",
     "iopub.status.idle": "2024-07-19T01:28:16.557820Z",
     "shell.execute_reply": "2024-07-19T01:28:16.557011Z",
     "shell.execute_reply.started": "2024-07-19T01:28:16.503319Z"
    },
    "tags": []
   },
   "outputs": [
    {
     "data": {
      "text/html": [
       "<div>\n",
       "<style scoped>\n",
       "    .dataframe tbody tr th:only-of-type {\n",
       "        vertical-align: middle;\n",
       "    }\n",
       "\n",
       "    .dataframe tbody tr th {\n",
       "        vertical-align: top;\n",
       "    }\n",
       "\n",
       "    .dataframe thead th {\n",
       "        text-align: right;\n",
       "    }\n",
       "</style>\n",
       "<table border=\"1\" class=\"dataframe\">\n",
       "  <thead>\n",
       "    <tr style=\"text-align: right;\">\n",
       "      <th></th>\n",
       "      <th>path</th>\n",
       "      <th>score_std</th>\n",
       "      <th>score_mean</th>\n",
       "      <th>dec_path</th>\n",
       "      <th>context_pmids</th>\n",
       "    </tr>\n",
       "  </thead>\n",
       "  <tbody>\n",
       "    <tr>\n",
       "      <th>0</th>\n",
       "      <td>[C1414263, C0252643]</td>\n",
       "      <td>0.000242</td>\n",
       "      <td>0.993591</td>\n",
       "      <td>[EDNRB gene, bosentan]</td>\n",
       "      <td>{('C1414263', 'C0252643'): ['14506620', '79216...</td>\n",
       "    </tr>\n",
       "  </tbody>\n",
       "</table>\n",
       "</div>"
      ],
      "text/plain": [
       "                   path  score_std  score_mean                dec_path  \\\n",
       "0  [C1414263, C0252643]   0.000242    0.993591  [EDNRB gene, bosentan]   \n",
       "\n",
       "                                       context_pmids  \n",
       "0  {('C1414263', 'C0252643'): ['14506620', '79216...  "
      ]
     },
     "execution_count": 5,
     "metadata": {},
     "output_type": "execute_result"
    }
   ],
   "source": [
    "sp_df"
   ]
  },
  {
   "cell_type": "markdown",
   "id": "fab782ac-6d70-48f1-ab78-3a28b92c3155",
   "metadata": {},
   "source": [
    "### Removing trivial (existing) edge between source and target"
   ]
  },
  {
   "cell_type": "code",
   "execution_count": 6,
   "id": "7880af29-84cf-4be7-97c9-09a5c4354472",
   "metadata": {
    "execution": {
     "iopub.execute_input": "2024-07-19T01:28:19.576003Z",
     "iopub.status.busy": "2024-07-19T01:28:19.575193Z",
     "iopub.status.idle": "2024-07-19T01:28:52.702889Z",
     "shell.execute_reply": "2024-07-19T01:28:52.701998Z",
     "shell.execute_reply.started": "2024-07-19T01:28:19.575979Z"
    },
    "tags": []
   },
   "outputs": [
    {
     "name": "stdout",
     "output_type": "stream",
     "text": [
      "Attempting to mask out trivial edge C1414263 - C0252643\n"
     ]
    },
    {
     "name": "stderr",
     "output_type": "stream",
     "text": [
      "Evaluating paths: 100%|███████████████████████████████████████████████████████████████| 20/20 [00:14<00:00,  1.42it/s]\n"
     ]
    }
   ],
   "source": [
    "sp_df = path_cont_retr_obj.construct_shortest_paths_df(\n",
    "    source_cui,\n",
    "    target_cui,\n",
    "    n_eval_runs=3,\n",
    "    n_paths_sample_size=20, # for abstract-lvl co-oc graph the number of paths may be huge\n",
    "    remove_trivial_edge=True,\n",
    ")"
   ]
  },
  {
   "cell_type": "code",
   "execution_count": 7,
   "id": "d67322da-2f50-45a2-a6ef-bf3b3d86cf3e",
   "metadata": {
    "execution": {
     "iopub.execute_input": "2024-07-19T01:28:53.658011Z",
     "iopub.status.busy": "2024-07-19T01:28:53.657822Z",
     "iopub.status.idle": "2024-07-19T01:28:53.705593Z",
     "shell.execute_reply": "2024-07-19T01:28:53.704934Z",
     "shell.execute_reply.started": "2024-07-19T01:28:53.657995Z"
    },
    "tags": []
   },
   "outputs": [
    {
     "data": {
      "text/html": [
       "<div>\n",
       "<style scoped>\n",
       "    .dataframe tbody tr th:only-of-type {\n",
       "        vertical-align: middle;\n",
       "    }\n",
       "\n",
       "    .dataframe tbody tr th {\n",
       "        vertical-align: top;\n",
       "    }\n",
       "\n",
       "    .dataframe thead th {\n",
       "        text-align: right;\n",
       "    }\n",
       "</style>\n",
       "<table border=\"1\" class=\"dataframe\">\n",
       "  <thead>\n",
       "    <tr style=\"text-align: right;\">\n",
       "      <th></th>\n",
       "      <th>path</th>\n",
       "      <th>score_std</th>\n",
       "      <th>score_mean</th>\n",
       "      <th>dec_path</th>\n",
       "      <th>context_pmids</th>\n",
       "    </tr>\n",
       "  </thead>\n",
       "  <tbody>\n",
       "    <tr>\n",
       "      <th>9</th>\n",
       "      <td>[C1414263, C4320607, C0216784, C0252643]</td>\n",
       "      <td>0.000410</td>\n",
       "      <td>0.998342</td>\n",
       "      <td>[EDNRB gene, PGR-AS1 gene, valsartan, bosentan]</td>\n",
       "      <td>{('C1414263', 'C4320607'): ['19353416'], ('C43...</td>\n",
       "    </tr>\n",
       "    <tr>\n",
       "      <th>17</th>\n",
       "      <td>[C1414263, C0045283, C0041956, C0252643]</td>\n",
       "      <td>0.000000</td>\n",
       "      <td>0.997743</td>\n",
       "      <td>[EDNRB gene, tempol, Ureteral obstruction, bos...</td>\n",
       "      <td>{('C1414263', 'C0045283'): ['15452035'], ('C00...</td>\n",
       "    </tr>\n",
       "    <tr>\n",
       "      <th>16</th>\n",
       "      <td>[C1414263, C0533668, C0343084, C0252643]</td>\n",
       "      <td>0.000000</td>\n",
       "      <td>0.994953</td>\n",
       "      <td>[EDNRB gene, ANGPT1 protein, human, Capillary ...</td>\n",
       "      <td>{('C1414263', 'C0533668'): ['31957020'], ('C05...</td>\n",
       "    </tr>\n",
       "    <tr>\n",
       "      <th>2</th>\n",
       "      <td>[C1414263, C0045283, C0030493, C0252643]</td>\n",
       "      <td>0.000000</td>\n",
       "      <td>0.994007</td>\n",
       "      <td>[EDNRB gene, tempol, Paraquat, bosentan]</td>\n",
       "      <td>{('C1414263', 'C0045283'): ['15452035'], ('C00...</td>\n",
       "    </tr>\n",
       "    <tr>\n",
       "      <th>4</th>\n",
       "      <td>[C1414263, C0040057, C3887559, C0252643]</td>\n",
       "      <td>0.000000</td>\n",
       "      <td>0.993401</td>\n",
       "      <td>[EDNRB gene, Thromboxane A2, Recombinant Human...</td>\n",
       "      <td>{('C1414263', 'C0040057'): ['8832063', '788928...</td>\n",
       "    </tr>\n",
       "    <tr>\n",
       "      <th>6</th>\n",
       "      <td>[C1414263, C4320607, C0730345, C0252643]</td>\n",
       "      <td>0.000000</td>\n",
       "      <td>0.991829</td>\n",
       "      <td>[EDNRB gene, PGR-AS1 gene, Microalbuminuria, b...</td>\n",
       "      <td>{('C1414263', 'C4320607'): ['19353416'], ('C43...</td>\n",
       "    </tr>\n",
       "    <tr>\n",
       "      <th>1</th>\n",
       "      <td>[C1414263, C0127082, C0241910, C0252643]</td>\n",
       "      <td>0.000000</td>\n",
       "      <td>0.989649</td>\n",
       "      <td>[EDNRB gene, Interstitial Collagenase, Autoimm...</td>\n",
       "      <td>{('C1414263', 'C0127082'): ['17555880'], ('C01...</td>\n",
       "    </tr>\n",
       "    <tr>\n",
       "      <th>0</th>\n",
       "      <td>[C1414263, C0207072, C0074554, C0252643]</td>\n",
       "      <td>0.000000</td>\n",
       "      <td>0.987545</td>\n",
       "      <td>[EDNRB gene, Glial Cell Line-Derived Neurotrop...</td>\n",
       "      <td>{('C1414263', 'C0207072'): ['12925014', '11302...</td>\n",
       "    </tr>\n",
       "    <tr>\n",
       "      <th>14</th>\n",
       "      <td>[C1414263, C0014356, C0004943, C0252643]</td>\n",
       "      <td>0.000000</td>\n",
       "      <td>0.985537</td>\n",
       "      <td>[EDNRB gene, Enterocolitis, Behcet Syndrome, b...</td>\n",
       "      <td>{('C1414263', 'C0014356'): ['35302172'], ('C00...</td>\n",
       "    </tr>\n",
       "    <tr>\n",
       "      <th>3</th>\n",
       "      <td>[C1414263, C0383327, C0206061, C0252643]</td>\n",
       "      <td>0.000000</td>\n",
       "      <td>0.984322</td>\n",
       "      <td>[EDNRB gene, Interleukin-18, Pneumonia, Inters...</td>\n",
       "      <td>{('C1414263', 'C0383327'): ['15075358'], ('C03...</td>\n",
       "    </tr>\n",
       "    <tr>\n",
       "      <th>13</th>\n",
       "      <td>[C1414263, C1417759, C0034735, C0252643]</td>\n",
       "      <td>0.002647</td>\n",
       "      <td>0.983504</td>\n",
       "      <td>[EDNRB gene, NOS1 gene, Raynaud Phenomenon, bo...</td>\n",
       "      <td>{('C1414263', 'C1417759'): ['18305094'], ('C14...</td>\n",
       "    </tr>\n",
       "    <tr>\n",
       "      <th>18</th>\n",
       "      <td>[C1414263, C1336602, C0242706, C0252643]</td>\n",
       "      <td>0.000000</td>\n",
       "      <td>0.981515</td>\n",
       "      <td>[EDNRB gene, TEK gene, Hyperoxia, bosentan]</td>\n",
       "      <td>{('C1414263', 'C1336602'): ['31957020'], ('C13...</td>\n",
       "    </tr>\n",
       "    <tr>\n",
       "      <th>5</th>\n",
       "      <td>[C1414263, C0078058, C0971858, C0252643]</td>\n",
       "      <td>0.000000</td>\n",
       "      <td>0.979060</td>\n",
       "      <td>[EDNRB gene, Vascular Endothelial Growth Facto...</td>\n",
       "      <td>{('C1414263', 'C0078058'): ['26174228'], ('C00...</td>\n",
       "    </tr>\n",
       "    <tr>\n",
       "      <th>11</th>\n",
       "      <td>[C1414263, C0003521, C0017628, C0252643]</td>\n",
       "      <td>0.000000</td>\n",
       "      <td>0.976268</td>\n",
       "      <td>[EDNRB gene, Apamin, glyburide, bosentan]</td>\n",
       "      <td>{('C1414263', 'C0003521'): ['8935720'], ('C000...</td>\n",
       "    </tr>\n",
       "    <tr>\n",
       "      <th>19</th>\n",
       "      <td>[C1414263, C0040057, C0010073, C0252643]</td>\n",
       "      <td>0.001015</td>\n",
       "      <td>0.967851</td>\n",
       "      <td>[EDNRB gene, Thromboxane A2, Coronary Artery V...</td>\n",
       "      <td>{('C1414263', 'C0040057'): ['8832063', '788928...</td>\n",
       "    </tr>\n",
       "    <tr>\n",
       "      <th>7</th>\n",
       "      <td>[C1414263, C1415782, C0009782, C0252643]</td>\n",
       "      <td>0.000343</td>\n",
       "      <td>0.961165</td>\n",
       "      <td>[EDNRB gene, HSPD1 gene, Connective Tissue Dis...</td>\n",
       "      <td>{('C1414263', 'C1415782'): ['23035257'], ('C14...</td>\n",
       "    </tr>\n",
       "    <tr>\n",
       "      <th>12</th>\n",
       "      <td>[C1414263, C1336602, C0074554, C0252643]</td>\n",
       "      <td>0.000000</td>\n",
       "      <td>0.961026</td>\n",
       "      <td>[EDNRB gene, TEK gene, simvastatin, bosentan]</td>\n",
       "      <td>{('C1414263', 'C1336602'): ['31957020'], ('C13...</td>\n",
       "    </tr>\n",
       "    <tr>\n",
       "      <th>15</th>\n",
       "      <td>[C1414263, C0600334, C1537719, C0252643]</td>\n",
       "      <td>0.000706</td>\n",
       "      <td>0.945115</td>\n",
       "      <td>[EDNRB gene, silybin, MIR21 gene, bosentan]</td>\n",
       "      <td>{('C1414263', 'C0600334'): ['25519917'], ('C06...</td>\n",
       "    </tr>\n",
       "    <tr>\n",
       "      <th>8</th>\n",
       "      <td>[C1414263, C0038220, C0529793, C0252643]</td>\n",
       "      <td>0.036488</td>\n",
       "      <td>0.893516</td>\n",
       "      <td>[EDNRB gene, Status Epilepticus, sildenafil, b...</td>\n",
       "      <td>{('C1414263', 'C0038220'): ['26232046', '27623...</td>\n",
       "    </tr>\n",
       "    <tr>\n",
       "      <th>10</th>\n",
       "      <td>[C1414263, C0038220, C0012265, C0252643]</td>\n",
       "      <td>0.000000</td>\n",
       "      <td>0.692961</td>\n",
       "      <td>[EDNRB gene, Status Epilepticus, digoxin, bose...</td>\n",
       "      <td>{('C1414263', 'C0038220'): ['26232046', '27623...</td>\n",
       "    </tr>\n",
       "  </tbody>\n",
       "</table>\n",
       "</div>"
      ],
      "text/plain": [
       "                                        path  score_std  score_mean  \\\n",
       "9   [C1414263, C4320607, C0216784, C0252643]   0.000410    0.998342   \n",
       "17  [C1414263, C0045283, C0041956, C0252643]   0.000000    0.997743   \n",
       "16  [C1414263, C0533668, C0343084, C0252643]   0.000000    0.994953   \n",
       "2   [C1414263, C0045283, C0030493, C0252643]   0.000000    0.994007   \n",
       "4   [C1414263, C0040057, C3887559, C0252643]   0.000000    0.993401   \n",
       "6   [C1414263, C4320607, C0730345, C0252643]   0.000000    0.991829   \n",
       "1   [C1414263, C0127082, C0241910, C0252643]   0.000000    0.989649   \n",
       "0   [C1414263, C0207072, C0074554, C0252643]   0.000000    0.987545   \n",
       "14  [C1414263, C0014356, C0004943, C0252643]   0.000000    0.985537   \n",
       "3   [C1414263, C0383327, C0206061, C0252643]   0.000000    0.984322   \n",
       "13  [C1414263, C1417759, C0034735, C0252643]   0.002647    0.983504   \n",
       "18  [C1414263, C1336602, C0242706, C0252643]   0.000000    0.981515   \n",
       "5   [C1414263, C0078058, C0971858, C0252643]   0.000000    0.979060   \n",
       "11  [C1414263, C0003521, C0017628, C0252643]   0.000000    0.976268   \n",
       "19  [C1414263, C0040057, C0010073, C0252643]   0.001015    0.967851   \n",
       "7   [C1414263, C1415782, C0009782, C0252643]   0.000343    0.961165   \n",
       "12  [C1414263, C1336602, C0074554, C0252643]   0.000000    0.961026   \n",
       "15  [C1414263, C0600334, C1537719, C0252643]   0.000706    0.945115   \n",
       "8   [C1414263, C0038220, C0529793, C0252643]   0.036488    0.893516   \n",
       "10  [C1414263, C0038220, C0012265, C0252643]   0.000000    0.692961   \n",
       "\n",
       "                                             dec_path  \\\n",
       "9     [EDNRB gene, PGR-AS1 gene, valsartan, bosentan]   \n",
       "17  [EDNRB gene, tempol, Ureteral obstruction, bos...   \n",
       "16  [EDNRB gene, ANGPT1 protein, human, Capillary ...   \n",
       "2            [EDNRB gene, tempol, Paraquat, bosentan]   \n",
       "4   [EDNRB gene, Thromboxane A2, Recombinant Human...   \n",
       "6   [EDNRB gene, PGR-AS1 gene, Microalbuminuria, b...   \n",
       "1   [EDNRB gene, Interstitial Collagenase, Autoimm...   \n",
       "0   [EDNRB gene, Glial Cell Line-Derived Neurotrop...   \n",
       "14  [EDNRB gene, Enterocolitis, Behcet Syndrome, b...   \n",
       "3   [EDNRB gene, Interleukin-18, Pneumonia, Inters...   \n",
       "13  [EDNRB gene, NOS1 gene, Raynaud Phenomenon, bo...   \n",
       "18        [EDNRB gene, TEK gene, Hyperoxia, bosentan]   \n",
       "5   [EDNRB gene, Vascular Endothelial Growth Facto...   \n",
       "11          [EDNRB gene, Apamin, glyburide, bosentan]   \n",
       "19  [EDNRB gene, Thromboxane A2, Coronary Artery V...   \n",
       "7   [EDNRB gene, HSPD1 gene, Connective Tissue Dis...   \n",
       "12      [EDNRB gene, TEK gene, simvastatin, bosentan]   \n",
       "15        [EDNRB gene, silybin, MIR21 gene, bosentan]   \n",
       "8   [EDNRB gene, Status Epilepticus, sildenafil, b...   \n",
       "10  [EDNRB gene, Status Epilepticus, digoxin, bose...   \n",
       "\n",
       "                                        context_pmids  \n",
       "9   {('C1414263', 'C4320607'): ['19353416'], ('C43...  \n",
       "17  {('C1414263', 'C0045283'): ['15452035'], ('C00...  \n",
       "16  {('C1414263', 'C0533668'): ['31957020'], ('C05...  \n",
       "2   {('C1414263', 'C0045283'): ['15452035'], ('C00...  \n",
       "4   {('C1414263', 'C0040057'): ['8832063', '788928...  \n",
       "6   {('C1414263', 'C4320607'): ['19353416'], ('C43...  \n",
       "1   {('C1414263', 'C0127082'): ['17555880'], ('C01...  \n",
       "0   {('C1414263', 'C0207072'): ['12925014', '11302...  \n",
       "14  {('C1414263', 'C0014356'): ['35302172'], ('C00...  \n",
       "3   {('C1414263', 'C0383327'): ['15075358'], ('C03...  \n",
       "13  {('C1414263', 'C1417759'): ['18305094'], ('C14...  \n",
       "18  {('C1414263', 'C1336602'): ['31957020'], ('C13...  \n",
       "5   {('C1414263', 'C0078058'): ['26174228'], ('C00...  \n",
       "11  {('C1414263', 'C0003521'): ['8935720'], ('C000...  \n",
       "19  {('C1414263', 'C0040057'): ['8832063', '788928...  \n",
       "7   {('C1414263', 'C1415782'): ['23035257'], ('C14...  \n",
       "12  {('C1414263', 'C1336602'): ['31957020'], ('C13...  \n",
       "15  {('C1414263', 'C0600334'): ['25519917'], ('C06...  \n",
       "8   {('C1414263', 'C0038220'): ['26232046', '27623...  \n",
       "10  {('C1414263', 'C0038220'): ['26232046', '27623...  "
      ]
     },
     "execution_count": 7,
     "metadata": {},
     "output_type": "execute_result"
    }
   ],
   "source": [
    "sp_df"
   ]
  },
  {
   "cell_type": "code",
   "execution_count": 8,
   "id": "a460eb93-aa9a-4cde-b1de-8d26a2d0f13b",
   "metadata": {
    "execution": {
     "iopub.execute_input": "2024-07-19T01:29:04.249102Z",
     "iopub.status.busy": "2024-07-19T01:29:04.248693Z",
     "iopub.status.idle": "2024-07-19T01:29:04.256995Z",
     "shell.execute_reply": "2024-07-19T01:29:04.256092Z",
     "shell.execute_reply.started": "2024-07-19T01:29:04.249069Z"
    },
    "tags": []
   },
   "outputs": [
    {
     "data": {
      "text/plain": [
       "[['EDNRB gene', 'PGR-AS1 gene', 'valsartan', 'bosentan'],\n",
       " ['EDNRB gene', 'tempol', 'Ureteral obstruction', 'bosentan'],\n",
       " ['EDNRB gene',\n",
       "  'ANGPT1 protein, human',\n",
       "  'Capillary Leak Syndrome',\n",
       "  'bosentan'],\n",
       " ['EDNRB gene', 'tempol', 'Paraquat', 'bosentan'],\n",
       " ['EDNRB gene',\n",
       "  'Thromboxane A2',\n",
       "  'Recombinant Human Macrophage Inflammatory Protein-1 Beta',\n",
       "  'bosentan']]"
      ]
     },
     "execution_count": 8,
     "metadata": {},
     "output_type": "execute_result"
    }
   ],
   "source": [
    "sp_df[:5]['dec_path'].to_list()"
   ]
  },
  {
   "cell_type": "code",
   "execution_count": 9,
   "id": "84b7bf1b-b67f-4bc5-b192-4471ea8fdf46",
   "metadata": {
    "execution": {
     "iopub.execute_input": "2024-07-19T01:29:07.135318Z",
     "iopub.status.busy": "2024-07-19T01:29:07.134684Z",
     "iopub.status.idle": "2024-07-19T01:29:07.142943Z",
     "shell.execute_reply": "2024-07-19T01:29:07.142003Z",
     "shell.execute_reply.started": "2024-07-19T01:29:07.135278Z"
    },
    "tags": []
   },
   "outputs": [
    {
     "data": {
      "text/plain": [
       "[{('C1414263', 'C4320607'): ['19353416'],\n",
       "  ('C4320607', 'C0216784'): ['16103268', '12023686', '26175121', '22392065'],\n",
       "  ('C0216784', 'C0252643'): ['20392896']},\n",
       " {('C1414263', 'C0045283'): ['15452035'],\n",
       "  ('C0045283', 'C0041956'): ['24550650'],\n",
       "  ('C0041956', 'C0252643'): ['25157662']},\n",
       " {('C1414263', 'C0533668'): ['31957020'],\n",
       "  ('C0533668', 'C0343084'): ['33351228'],\n",
       "  ('C0343084', 'C0252643'): ['31012372']},\n",
       " {('C1414263', 'C0045283'): ['15452035'],\n",
       "  ('C0045283', 'C0030493'): ['17640563'],\n",
       "  ('C0030493', 'C0252643'): ['24155875']},\n",
       " {('C1414263', 'C0040057'): ['8832063', '7889281'],\n",
       "  ('C0040057', 'C3887559'): ['2119043'],\n",
       "  ('C3887559', 'C0252643'): ['8587341']}]"
      ]
     },
     "execution_count": 9,
     "metadata": {},
     "output_type": "execute_result"
    }
   ],
   "source": [
    "sp_df[:5]['context_pmids'].to_list()"
   ]
  },
  {
   "cell_type": "code",
   "execution_count": null,
   "id": "d7c3b0e8-367b-4aad-bc41-3cab386136f0",
   "metadata": {},
   "outputs": [],
   "source": []
  }
 ],
 "metadata": {
  "kernelspec": {
   "display_name": "Python [conda env:agatha_cgp_py_3_9]",
   "language": "python",
   "name": "conda-env-agatha_cgp_py_3_9-py"
  },
  "language_info": {
   "codemirror_mode": {
    "name": "ipython",
    "version": 3
   },
   "file_extension": ".py",
   "mimetype": "text/x-python",
   "name": "python",
   "nbconvert_exporter": "python",
   "pygments_lexer": "ipython3",
   "version": "3.9.13"
  }
 },
 "nbformat": 4,
 "nbformat_minor": 5
}
